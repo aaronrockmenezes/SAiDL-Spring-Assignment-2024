{
  "nbformat": 4,
  "nbformat_minor": 0,
  "metadata": {
    "colab": {
      "provenance": [],
      "gpuType": "T4"
    },
    "kernelspec": {
      "name": "python3",
      "display_name": "Python 3"
    },
    "language_info": {
      "name": "python"
    },
    "widgets": {
      "application/vnd.jupyter.widget-state+json": {
        "e53666eb0eab46aaabdbb2493703197d": {
          "model_module": "@jupyter-widgets/controls",
          "model_name": "HBoxModel",
          "model_module_version": "1.5.0",
          "state": {
            "_dom_classes": [],
            "_model_module": "@jupyter-widgets/controls",
            "_model_module_version": "1.5.0",
            "_model_name": "HBoxModel",
            "_view_count": null,
            "_view_module": "@jupyter-widgets/controls",
            "_view_module_version": "1.5.0",
            "_view_name": "HBoxView",
            "box_style": "",
            "children": [
              "IPY_MODEL_0a08b411fd3243d4a2e78a5616e9fb77",
              "IPY_MODEL_2208edeac861405e812aac9d6165c7cf",
              "IPY_MODEL_85bf368373ef46dd9c24bba9dd8aaaba"
            ],
            "layout": "IPY_MODEL_bedd33384e544212bad1b4b7484a27c3"
          }
        },
        "0a08b411fd3243d4a2e78a5616e9fb77": {
          "model_module": "@jupyter-widgets/controls",
          "model_name": "HTMLModel",
          "model_module_version": "1.5.0",
          "state": {
            "_dom_classes": [],
            "_model_module": "@jupyter-widgets/controls",
            "_model_module_version": "1.5.0",
            "_model_name": "HTMLModel",
            "_view_count": null,
            "_view_module": "@jupyter-widgets/controls",
            "_view_module_version": "1.5.0",
            "_view_name": "HTMLView",
            "description": "",
            "description_tooltip": null,
            "layout": "IPY_MODEL_65caf16cde914b36a45d31048373f30c",
            "placeholder": "​",
            "style": "IPY_MODEL_8cf6cde6c51248948c2c33966fee8ddc",
            "value": "Downloading data: 100%"
          }
        },
        "2208edeac861405e812aac9d6165c7cf": {
          "model_module": "@jupyter-widgets/controls",
          "model_name": "FloatProgressModel",
          "model_module_version": "1.5.0",
          "state": {
            "_dom_classes": [],
            "_model_module": "@jupyter-widgets/controls",
            "_model_module_version": "1.5.0",
            "_model_name": "FloatProgressModel",
            "_view_count": null,
            "_view_module": "@jupyter-widgets/controls",
            "_view_module_version": "1.5.0",
            "_view_name": "ProgressView",
            "bar_style": "success",
            "description": "",
            "description_tooltip": null,
            "layout": "IPY_MODEL_73e77dc4e20248449eddd0ec24e0ff1a",
            "max": 1227788,
            "min": 0,
            "orientation": "horizontal",
            "style": "IPY_MODEL_f5956a94730247b2b25a7d49ad08078f",
            "value": 1227788
          }
        },
        "85bf368373ef46dd9c24bba9dd8aaaba": {
          "model_module": "@jupyter-widgets/controls",
          "model_name": "HTMLModel",
          "model_module_version": "1.5.0",
          "state": {
            "_dom_classes": [],
            "_model_module": "@jupyter-widgets/controls",
            "_model_module_version": "1.5.0",
            "_model_name": "HTMLModel",
            "_view_count": null,
            "_view_module": "@jupyter-widgets/controls",
            "_view_module_version": "1.5.0",
            "_view_name": "HTMLView",
            "description": "",
            "description_tooltip": null,
            "layout": "IPY_MODEL_af1e114290a7459f829d93e7a3ebcd0c",
            "placeholder": "​",
            "style": "IPY_MODEL_b48a91b263834c318b03c5761ea581e2",
            "value": " 1.23M/1.23M [00:00&lt;00:00, 4.67MB/s]"
          }
        },
        "bedd33384e544212bad1b4b7484a27c3": {
          "model_module": "@jupyter-widgets/base",
          "model_name": "LayoutModel",
          "model_module_version": "1.2.0",
          "state": {
            "_model_module": "@jupyter-widgets/base",
            "_model_module_version": "1.2.0",
            "_model_name": "LayoutModel",
            "_view_count": null,
            "_view_module": "@jupyter-widgets/base",
            "_view_module_version": "1.2.0",
            "_view_name": "LayoutView",
            "align_content": null,
            "align_items": null,
            "align_self": null,
            "border": null,
            "bottom": null,
            "display": null,
            "flex": null,
            "flex_flow": null,
            "grid_area": null,
            "grid_auto_columns": null,
            "grid_auto_flow": null,
            "grid_auto_rows": null,
            "grid_column": null,
            "grid_gap": null,
            "grid_row": null,
            "grid_template_areas": null,
            "grid_template_columns": null,
            "grid_template_rows": null,
            "height": null,
            "justify_content": null,
            "justify_items": null,
            "left": null,
            "margin": null,
            "max_height": null,
            "max_width": null,
            "min_height": null,
            "min_width": null,
            "object_fit": null,
            "object_position": null,
            "order": null,
            "overflow": null,
            "overflow_x": null,
            "overflow_y": null,
            "padding": null,
            "right": null,
            "top": null,
            "visibility": null,
            "width": null
          }
        },
        "65caf16cde914b36a45d31048373f30c": {
          "model_module": "@jupyter-widgets/base",
          "model_name": "LayoutModel",
          "model_module_version": "1.2.0",
          "state": {
            "_model_module": "@jupyter-widgets/base",
            "_model_module_version": "1.2.0",
            "_model_name": "LayoutModel",
            "_view_count": null,
            "_view_module": "@jupyter-widgets/base",
            "_view_module_version": "1.2.0",
            "_view_name": "LayoutView",
            "align_content": null,
            "align_items": null,
            "align_self": null,
            "border": null,
            "bottom": null,
            "display": null,
            "flex": null,
            "flex_flow": null,
            "grid_area": null,
            "grid_auto_columns": null,
            "grid_auto_flow": null,
            "grid_auto_rows": null,
            "grid_column": null,
            "grid_gap": null,
            "grid_row": null,
            "grid_template_areas": null,
            "grid_template_columns": null,
            "grid_template_rows": null,
            "height": null,
            "justify_content": null,
            "justify_items": null,
            "left": null,
            "margin": null,
            "max_height": null,
            "max_width": null,
            "min_height": null,
            "min_width": null,
            "object_fit": null,
            "object_position": null,
            "order": null,
            "overflow": null,
            "overflow_x": null,
            "overflow_y": null,
            "padding": null,
            "right": null,
            "top": null,
            "visibility": null,
            "width": null
          }
        },
        "8cf6cde6c51248948c2c33966fee8ddc": {
          "model_module": "@jupyter-widgets/controls",
          "model_name": "DescriptionStyleModel",
          "model_module_version": "1.5.0",
          "state": {
            "_model_module": "@jupyter-widgets/controls",
            "_model_module_version": "1.5.0",
            "_model_name": "DescriptionStyleModel",
            "_view_count": null,
            "_view_module": "@jupyter-widgets/base",
            "_view_module_version": "1.2.0",
            "_view_name": "StyleView",
            "description_width": ""
          }
        },
        "73e77dc4e20248449eddd0ec24e0ff1a": {
          "model_module": "@jupyter-widgets/base",
          "model_name": "LayoutModel",
          "model_module_version": "1.2.0",
          "state": {
            "_model_module": "@jupyter-widgets/base",
            "_model_module_version": "1.2.0",
            "_model_name": "LayoutModel",
            "_view_count": null,
            "_view_module": "@jupyter-widgets/base",
            "_view_module_version": "1.2.0",
            "_view_name": "LayoutView",
            "align_content": null,
            "align_items": null,
            "align_self": null,
            "border": null,
            "bottom": null,
            "display": null,
            "flex": null,
            "flex_flow": null,
            "grid_area": null,
            "grid_auto_columns": null,
            "grid_auto_flow": null,
            "grid_auto_rows": null,
            "grid_column": null,
            "grid_gap": null,
            "grid_row": null,
            "grid_template_areas": null,
            "grid_template_columns": null,
            "grid_template_rows": null,
            "height": null,
            "justify_content": null,
            "justify_items": null,
            "left": null,
            "margin": null,
            "max_height": null,
            "max_width": null,
            "min_height": null,
            "min_width": null,
            "object_fit": null,
            "object_position": null,
            "order": null,
            "overflow": null,
            "overflow_x": null,
            "overflow_y": null,
            "padding": null,
            "right": null,
            "top": null,
            "visibility": null,
            "width": null
          }
        },
        "f5956a94730247b2b25a7d49ad08078f": {
          "model_module": "@jupyter-widgets/controls",
          "model_name": "ProgressStyleModel",
          "model_module_version": "1.5.0",
          "state": {
            "_model_module": "@jupyter-widgets/controls",
            "_model_module_version": "1.5.0",
            "_model_name": "ProgressStyleModel",
            "_view_count": null,
            "_view_module": "@jupyter-widgets/base",
            "_view_module_version": "1.2.0",
            "_view_name": "StyleView",
            "bar_color": null,
            "description_width": ""
          }
        },
        "af1e114290a7459f829d93e7a3ebcd0c": {
          "model_module": "@jupyter-widgets/base",
          "model_name": "LayoutModel",
          "model_module_version": "1.2.0",
          "state": {
            "_model_module": "@jupyter-widgets/base",
            "_model_module_version": "1.2.0",
            "_model_name": "LayoutModel",
            "_view_count": null,
            "_view_module": "@jupyter-widgets/base",
            "_view_module_version": "1.2.0",
            "_view_name": "LayoutView",
            "align_content": null,
            "align_items": null,
            "align_self": null,
            "border": null,
            "bottom": null,
            "display": null,
            "flex": null,
            "flex_flow": null,
            "grid_area": null,
            "grid_auto_columns": null,
            "grid_auto_flow": null,
            "grid_auto_rows": null,
            "grid_column": null,
            "grid_gap": null,
            "grid_row": null,
            "grid_template_areas": null,
            "grid_template_columns": null,
            "grid_template_rows": null,
            "height": null,
            "justify_content": null,
            "justify_items": null,
            "left": null,
            "margin": null,
            "max_height": null,
            "max_width": null,
            "min_height": null,
            "min_width": null,
            "object_fit": null,
            "object_position": null,
            "order": null,
            "overflow": null,
            "overflow_x": null,
            "overflow_y": null,
            "padding": null,
            "right": null,
            "top": null,
            "visibility": null,
            "width": null
          }
        },
        "b48a91b263834c318b03c5761ea581e2": {
          "model_module": "@jupyter-widgets/controls",
          "model_name": "DescriptionStyleModel",
          "model_module_version": "1.5.0",
          "state": {
            "_model_module": "@jupyter-widgets/controls",
            "_model_module_version": "1.5.0",
            "_model_name": "DescriptionStyleModel",
            "_view_count": null,
            "_view_module": "@jupyter-widgets/base",
            "_view_module_version": "1.2.0",
            "_view_name": "StyleView",
            "description_width": ""
          }
        },
        "d1de76173a0d4393b43e92d6b3f87b60": {
          "model_module": "@jupyter-widgets/controls",
          "model_name": "HBoxModel",
          "model_module_version": "1.5.0",
          "state": {
            "_dom_classes": [],
            "_model_module": "@jupyter-widgets/controls",
            "_model_module_version": "1.5.0",
            "_model_name": "HBoxModel",
            "_view_count": null,
            "_view_module": "@jupyter-widgets/controls",
            "_view_module_version": "1.5.0",
            "_view_name": "HBoxView",
            "box_style": "",
            "children": [
              "IPY_MODEL_5145c73b91494ace89f89bd02c2f6260",
              "IPY_MODEL_c16f972cb3b9417196e01f97ec1cce5c",
              "IPY_MODEL_9838057fb7bc4063a92cc0db504369db"
            ],
            "layout": "IPY_MODEL_9e8ef74549e4443eab0ce67bb9ceead7"
          }
        },
        "5145c73b91494ace89f89bd02c2f6260": {
          "model_module": "@jupyter-widgets/controls",
          "model_name": "HTMLModel",
          "model_module_version": "1.5.0",
          "state": {
            "_dom_classes": [],
            "_model_module": "@jupyter-widgets/controls",
            "_model_module_version": "1.5.0",
            "_model_name": "HTMLModel",
            "_view_count": null,
            "_view_module": "@jupyter-widgets/controls",
            "_view_module_version": "1.5.0",
            "_view_name": "HTMLView",
            "description": "",
            "description_tooltip": null,
            "layout": "IPY_MODEL_fc48dd80fdb04f5b805f0a6649e9a462",
            "placeholder": "​",
            "style": "IPY_MODEL_a2a0e2ffe32d489abdabae7d8d98008a",
            "value": "Downloading data: 100%"
          }
        },
        "c16f972cb3b9417196e01f97ec1cce5c": {
          "model_module": "@jupyter-widgets/controls",
          "model_name": "FloatProgressModel",
          "model_module_version": "1.5.0",
          "state": {
            "_dom_classes": [],
            "_model_module": "@jupyter-widgets/controls",
            "_model_module_version": "1.5.0",
            "_model_name": "FloatProgressModel",
            "_view_count": null,
            "_view_module": "@jupyter-widgets/controls",
            "_view_module_version": "1.5.0",
            "_view_name": "ProgressView",
            "bar_style": "success",
            "description": "",
            "description_tooltip": null,
            "layout": "IPY_MODEL_a42d423fed6341459de45d053276b811",
            "max": 311883,
            "min": 0,
            "orientation": "horizontal",
            "style": "IPY_MODEL_4bcdb429f7bb4c0ca087b0414a7132c9",
            "value": 311883
          }
        },
        "9838057fb7bc4063a92cc0db504369db": {
          "model_module": "@jupyter-widgets/controls",
          "model_name": "HTMLModel",
          "model_module_version": "1.5.0",
          "state": {
            "_dom_classes": [],
            "_model_module": "@jupyter-widgets/controls",
            "_model_module_version": "1.5.0",
            "_model_name": "HTMLModel",
            "_view_count": null,
            "_view_module": "@jupyter-widgets/controls",
            "_view_module_version": "1.5.0",
            "_view_name": "HTMLView",
            "description": "",
            "description_tooltip": null,
            "layout": "IPY_MODEL_00bb89bc9f144e9a9916fdf86bb8af76",
            "placeholder": "​",
            "style": "IPY_MODEL_56e8448e3acc4988a1bc3efe11687931",
            "value": " 312k/312k [00:00&lt;00:00, 1.25MB/s]"
          }
        },
        "9e8ef74549e4443eab0ce67bb9ceead7": {
          "model_module": "@jupyter-widgets/base",
          "model_name": "LayoutModel",
          "model_module_version": "1.2.0",
          "state": {
            "_model_module": "@jupyter-widgets/base",
            "_model_module_version": "1.2.0",
            "_model_name": "LayoutModel",
            "_view_count": null,
            "_view_module": "@jupyter-widgets/base",
            "_view_module_version": "1.2.0",
            "_view_name": "LayoutView",
            "align_content": null,
            "align_items": null,
            "align_self": null,
            "border": null,
            "bottom": null,
            "display": null,
            "flex": null,
            "flex_flow": null,
            "grid_area": null,
            "grid_auto_columns": null,
            "grid_auto_flow": null,
            "grid_auto_rows": null,
            "grid_column": null,
            "grid_gap": null,
            "grid_row": null,
            "grid_template_areas": null,
            "grid_template_columns": null,
            "grid_template_rows": null,
            "height": null,
            "justify_content": null,
            "justify_items": null,
            "left": null,
            "margin": null,
            "max_height": null,
            "max_width": null,
            "min_height": null,
            "min_width": null,
            "object_fit": null,
            "object_position": null,
            "order": null,
            "overflow": null,
            "overflow_x": null,
            "overflow_y": null,
            "padding": null,
            "right": null,
            "top": null,
            "visibility": null,
            "width": null
          }
        },
        "fc48dd80fdb04f5b805f0a6649e9a462": {
          "model_module": "@jupyter-widgets/base",
          "model_name": "LayoutModel",
          "model_module_version": "1.2.0",
          "state": {
            "_model_module": "@jupyter-widgets/base",
            "_model_module_version": "1.2.0",
            "_model_name": "LayoutModel",
            "_view_count": null,
            "_view_module": "@jupyter-widgets/base",
            "_view_module_version": "1.2.0",
            "_view_name": "LayoutView",
            "align_content": null,
            "align_items": null,
            "align_self": null,
            "border": null,
            "bottom": null,
            "display": null,
            "flex": null,
            "flex_flow": null,
            "grid_area": null,
            "grid_auto_columns": null,
            "grid_auto_flow": null,
            "grid_auto_rows": null,
            "grid_column": null,
            "grid_gap": null,
            "grid_row": null,
            "grid_template_areas": null,
            "grid_template_columns": null,
            "grid_template_rows": null,
            "height": null,
            "justify_content": null,
            "justify_items": null,
            "left": null,
            "margin": null,
            "max_height": null,
            "max_width": null,
            "min_height": null,
            "min_width": null,
            "object_fit": null,
            "object_position": null,
            "order": null,
            "overflow": null,
            "overflow_x": null,
            "overflow_y": null,
            "padding": null,
            "right": null,
            "top": null,
            "visibility": null,
            "width": null
          }
        },
        "a2a0e2ffe32d489abdabae7d8d98008a": {
          "model_module": "@jupyter-widgets/controls",
          "model_name": "DescriptionStyleModel",
          "model_module_version": "1.5.0",
          "state": {
            "_model_module": "@jupyter-widgets/controls",
            "_model_module_version": "1.5.0",
            "_model_name": "DescriptionStyleModel",
            "_view_count": null,
            "_view_module": "@jupyter-widgets/base",
            "_view_module_version": "1.2.0",
            "_view_name": "StyleView",
            "description_width": ""
          }
        },
        "a42d423fed6341459de45d053276b811": {
          "model_module": "@jupyter-widgets/base",
          "model_name": "LayoutModel",
          "model_module_version": "1.2.0",
          "state": {
            "_model_module": "@jupyter-widgets/base",
            "_model_module_version": "1.2.0",
            "_model_name": "LayoutModel",
            "_view_count": null,
            "_view_module": "@jupyter-widgets/base",
            "_view_module_version": "1.2.0",
            "_view_name": "LayoutView",
            "align_content": null,
            "align_items": null,
            "align_self": null,
            "border": null,
            "bottom": null,
            "display": null,
            "flex": null,
            "flex_flow": null,
            "grid_area": null,
            "grid_auto_columns": null,
            "grid_auto_flow": null,
            "grid_auto_rows": null,
            "grid_column": null,
            "grid_gap": null,
            "grid_row": null,
            "grid_template_areas": null,
            "grid_template_columns": null,
            "grid_template_rows": null,
            "height": null,
            "justify_content": null,
            "justify_items": null,
            "left": null,
            "margin": null,
            "max_height": null,
            "max_width": null,
            "min_height": null,
            "min_width": null,
            "object_fit": null,
            "object_position": null,
            "order": null,
            "overflow": null,
            "overflow_x": null,
            "overflow_y": null,
            "padding": null,
            "right": null,
            "top": null,
            "visibility": null,
            "width": null
          }
        },
        "4bcdb429f7bb4c0ca087b0414a7132c9": {
          "model_module": "@jupyter-widgets/controls",
          "model_name": "ProgressStyleModel",
          "model_module_version": "1.5.0",
          "state": {
            "_model_module": "@jupyter-widgets/controls",
            "_model_module_version": "1.5.0",
            "_model_name": "ProgressStyleModel",
            "_view_count": null,
            "_view_module": "@jupyter-widgets/base",
            "_view_module_version": "1.2.0",
            "_view_name": "StyleView",
            "bar_color": null,
            "description_width": ""
          }
        },
        "00bb89bc9f144e9a9916fdf86bb8af76": {
          "model_module": "@jupyter-widgets/base",
          "model_name": "LayoutModel",
          "model_module_version": "1.2.0",
          "state": {
            "_model_module": "@jupyter-widgets/base",
            "_model_module_version": "1.2.0",
            "_model_name": "LayoutModel",
            "_view_count": null,
            "_view_module": "@jupyter-widgets/base",
            "_view_module_version": "1.2.0",
            "_view_name": "LayoutView",
            "align_content": null,
            "align_items": null,
            "align_self": null,
            "border": null,
            "bottom": null,
            "display": null,
            "flex": null,
            "flex_flow": null,
            "grid_area": null,
            "grid_auto_columns": null,
            "grid_auto_flow": null,
            "grid_auto_rows": null,
            "grid_column": null,
            "grid_gap": null,
            "grid_row": null,
            "grid_template_areas": null,
            "grid_template_columns": null,
            "grid_template_rows": null,
            "height": null,
            "justify_content": null,
            "justify_items": null,
            "left": null,
            "margin": null,
            "max_height": null,
            "max_width": null,
            "min_height": null,
            "min_width": null,
            "object_fit": null,
            "object_position": null,
            "order": null,
            "overflow": null,
            "overflow_x": null,
            "overflow_y": null,
            "padding": null,
            "right": null,
            "top": null,
            "visibility": null,
            "width": null
          }
        },
        "56e8448e3acc4988a1bc3efe11687931": {
          "model_module": "@jupyter-widgets/controls",
          "model_name": "DescriptionStyleModel",
          "model_module_version": "1.5.0",
          "state": {
            "_model_module": "@jupyter-widgets/controls",
            "_model_module_version": "1.5.0",
            "_model_name": "DescriptionStyleModel",
            "_view_count": null,
            "_view_module": "@jupyter-widgets/base",
            "_view_module_version": "1.2.0",
            "_view_name": "StyleView",
            "description_width": ""
          }
        },
        "0451f42d607e4382837d7c836efa8d9f": {
          "model_module": "@jupyter-widgets/controls",
          "model_name": "HBoxModel",
          "model_module_version": "1.5.0",
          "state": {
            "_dom_classes": [],
            "_model_module": "@jupyter-widgets/controls",
            "_model_module_version": "1.5.0",
            "_model_name": "HBoxModel",
            "_view_count": null,
            "_view_module": "@jupyter-widgets/controls",
            "_view_module_version": "1.5.0",
            "_view_name": "HBoxView",
            "box_style": "",
            "children": [
              "IPY_MODEL_b61cccd8d70a41c7bab7f2fe6304adfe",
              "IPY_MODEL_e06ddb9857bd497bbe820e3766d03f0f",
              "IPY_MODEL_609ec4bdc3674e96943b66c08e791096"
            ],
            "layout": "IPY_MODEL_99cc89e68db74ab7acfc00665d580757"
          }
        },
        "b61cccd8d70a41c7bab7f2fe6304adfe": {
          "model_module": "@jupyter-widgets/controls",
          "model_name": "HTMLModel",
          "model_module_version": "1.5.0",
          "state": {
            "_dom_classes": [],
            "_model_module": "@jupyter-widgets/controls",
            "_model_module_version": "1.5.0",
            "_model_name": "HTMLModel",
            "_view_count": null,
            "_view_module": "@jupyter-widgets/controls",
            "_view_module_version": "1.5.0",
            "_view_name": "HTMLView",
            "description": "",
            "description_tooltip": null,
            "layout": "IPY_MODEL_5b06eebf8a7f4e23a032c9c466581943",
            "placeholder": "​",
            "style": "IPY_MODEL_ede7e95904e140b38044167dbe70bd8a",
            "value": "Downloading data: 100%"
          }
        },
        "e06ddb9857bd497bbe820e3766d03f0f": {
          "model_module": "@jupyter-widgets/controls",
          "model_name": "FloatProgressModel",
          "model_module_version": "1.5.0",
          "state": {
            "_dom_classes": [],
            "_model_module": "@jupyter-widgets/controls",
            "_model_module_version": "1.5.0",
            "_model_name": "FloatProgressModel",
            "_view_count": null,
            "_view_module": "@jupyter-widgets/controls",
            "_view_module_version": "1.5.0",
            "_view_name": "ProgressView",
            "bar_style": "success",
            "description": "",
            "description_tooltip": null,
            "layout": "IPY_MODEL_c552f6c093ae42adbdde6ef08734c48e",
            "max": 283307,
            "min": 0,
            "orientation": "horizontal",
            "style": "IPY_MODEL_9bc30bdc09de4318af95dbc7c8904fef",
            "value": 283307
          }
        },
        "609ec4bdc3674e96943b66c08e791096": {
          "model_module": "@jupyter-widgets/controls",
          "model_name": "HTMLModel",
          "model_module_version": "1.5.0",
          "state": {
            "_dom_classes": [],
            "_model_module": "@jupyter-widgets/controls",
            "_model_module_version": "1.5.0",
            "_model_name": "HTMLModel",
            "_view_count": null,
            "_view_module": "@jupyter-widgets/controls",
            "_view_module_version": "1.5.0",
            "_view_name": "HTMLView",
            "description": "",
            "description_tooltip": null,
            "layout": "IPY_MODEL_de9f522fd3d4499ca65a67fcab38a5af",
            "placeholder": "​",
            "style": "IPY_MODEL_caaa75e58e484fca87543f8709b5b839",
            "value": " 283k/283k [00:00&lt;00:00, 834kB/s]"
          }
        },
        "99cc89e68db74ab7acfc00665d580757": {
          "model_module": "@jupyter-widgets/base",
          "model_name": "LayoutModel",
          "model_module_version": "1.2.0",
          "state": {
            "_model_module": "@jupyter-widgets/base",
            "_model_module_version": "1.2.0",
            "_model_name": "LayoutModel",
            "_view_count": null,
            "_view_module": "@jupyter-widgets/base",
            "_view_module_version": "1.2.0",
            "_view_name": "LayoutView",
            "align_content": null,
            "align_items": null,
            "align_self": null,
            "border": null,
            "bottom": null,
            "display": null,
            "flex": null,
            "flex_flow": null,
            "grid_area": null,
            "grid_auto_columns": null,
            "grid_auto_flow": null,
            "grid_auto_rows": null,
            "grid_column": null,
            "grid_gap": null,
            "grid_row": null,
            "grid_template_areas": null,
            "grid_template_columns": null,
            "grid_template_rows": null,
            "height": null,
            "justify_content": null,
            "justify_items": null,
            "left": null,
            "margin": null,
            "max_height": null,
            "max_width": null,
            "min_height": null,
            "min_width": null,
            "object_fit": null,
            "object_position": null,
            "order": null,
            "overflow": null,
            "overflow_x": null,
            "overflow_y": null,
            "padding": null,
            "right": null,
            "top": null,
            "visibility": null,
            "width": null
          }
        },
        "5b06eebf8a7f4e23a032c9c466581943": {
          "model_module": "@jupyter-widgets/base",
          "model_name": "LayoutModel",
          "model_module_version": "1.2.0",
          "state": {
            "_model_module": "@jupyter-widgets/base",
            "_model_module_version": "1.2.0",
            "_model_name": "LayoutModel",
            "_view_count": null,
            "_view_module": "@jupyter-widgets/base",
            "_view_module_version": "1.2.0",
            "_view_name": "LayoutView",
            "align_content": null,
            "align_items": null,
            "align_self": null,
            "border": null,
            "bottom": null,
            "display": null,
            "flex": null,
            "flex_flow": null,
            "grid_area": null,
            "grid_auto_columns": null,
            "grid_auto_flow": null,
            "grid_auto_rows": null,
            "grid_column": null,
            "grid_gap": null,
            "grid_row": null,
            "grid_template_areas": null,
            "grid_template_columns": null,
            "grid_template_rows": null,
            "height": null,
            "justify_content": null,
            "justify_items": null,
            "left": null,
            "margin": null,
            "max_height": null,
            "max_width": null,
            "min_height": null,
            "min_width": null,
            "object_fit": null,
            "object_position": null,
            "order": null,
            "overflow": null,
            "overflow_x": null,
            "overflow_y": null,
            "padding": null,
            "right": null,
            "top": null,
            "visibility": null,
            "width": null
          }
        },
        "ede7e95904e140b38044167dbe70bd8a": {
          "model_module": "@jupyter-widgets/controls",
          "model_name": "DescriptionStyleModel",
          "model_module_version": "1.5.0",
          "state": {
            "_model_module": "@jupyter-widgets/controls",
            "_model_module_version": "1.5.0",
            "_model_name": "DescriptionStyleModel",
            "_view_count": null,
            "_view_module": "@jupyter-widgets/base",
            "_view_module_version": "1.2.0",
            "_view_name": "StyleView",
            "description_width": ""
          }
        },
        "c552f6c093ae42adbdde6ef08734c48e": {
          "model_module": "@jupyter-widgets/base",
          "model_name": "LayoutModel",
          "model_module_version": "1.2.0",
          "state": {
            "_model_module": "@jupyter-widgets/base",
            "_model_module_version": "1.2.0",
            "_model_name": "LayoutModel",
            "_view_count": null,
            "_view_module": "@jupyter-widgets/base",
            "_view_module_version": "1.2.0",
            "_view_name": "LayoutView",
            "align_content": null,
            "align_items": null,
            "align_self": null,
            "border": null,
            "bottom": null,
            "display": null,
            "flex": null,
            "flex_flow": null,
            "grid_area": null,
            "grid_auto_columns": null,
            "grid_auto_flow": null,
            "grid_auto_rows": null,
            "grid_column": null,
            "grid_gap": null,
            "grid_row": null,
            "grid_template_areas": null,
            "grid_template_columns": null,
            "grid_template_rows": null,
            "height": null,
            "justify_content": null,
            "justify_items": null,
            "left": null,
            "margin": null,
            "max_height": null,
            "max_width": null,
            "min_height": null,
            "min_width": null,
            "object_fit": null,
            "object_position": null,
            "order": null,
            "overflow": null,
            "overflow_x": null,
            "overflow_y": null,
            "padding": null,
            "right": null,
            "top": null,
            "visibility": null,
            "width": null
          }
        },
        "9bc30bdc09de4318af95dbc7c8904fef": {
          "model_module": "@jupyter-widgets/controls",
          "model_name": "ProgressStyleModel",
          "model_module_version": "1.5.0",
          "state": {
            "_model_module": "@jupyter-widgets/controls",
            "_model_module_version": "1.5.0",
            "_model_name": "ProgressStyleModel",
            "_view_count": null,
            "_view_module": "@jupyter-widgets/base",
            "_view_module_version": "1.2.0",
            "_view_name": "StyleView",
            "bar_color": null,
            "description_width": ""
          }
        },
        "de9f522fd3d4499ca65a67fcab38a5af": {
          "model_module": "@jupyter-widgets/base",
          "model_name": "LayoutModel",
          "model_module_version": "1.2.0",
          "state": {
            "_model_module": "@jupyter-widgets/base",
            "_model_module_version": "1.2.0",
            "_model_name": "LayoutModel",
            "_view_count": null,
            "_view_module": "@jupyter-widgets/base",
            "_view_module_version": "1.2.0",
            "_view_name": "LayoutView",
            "align_content": null,
            "align_items": null,
            "align_self": null,
            "border": null,
            "bottom": null,
            "display": null,
            "flex": null,
            "flex_flow": null,
            "grid_area": null,
            "grid_auto_columns": null,
            "grid_auto_flow": null,
            "grid_auto_rows": null,
            "grid_column": null,
            "grid_gap": null,
            "grid_row": null,
            "grid_template_areas": null,
            "grid_template_columns": null,
            "grid_template_rows": null,
            "height": null,
            "justify_content": null,
            "justify_items": null,
            "left": null,
            "margin": null,
            "max_height": null,
            "max_width": null,
            "min_height": null,
            "min_width": null,
            "object_fit": null,
            "object_position": null,
            "order": null,
            "overflow": null,
            "overflow_x": null,
            "overflow_y": null,
            "padding": null,
            "right": null,
            "top": null,
            "visibility": null,
            "width": null
          }
        },
        "caaa75e58e484fca87543f8709b5b839": {
          "model_module": "@jupyter-widgets/controls",
          "model_name": "DescriptionStyleModel",
          "model_module_version": "1.5.0",
          "state": {
            "_model_module": "@jupyter-widgets/controls",
            "_model_module_version": "1.5.0",
            "_model_name": "DescriptionStyleModel",
            "_view_count": null,
            "_view_module": "@jupyter-widgets/base",
            "_view_module_version": "1.2.0",
            "_view_name": "StyleView",
            "description_width": ""
          }
        },
        "0b4f4a27c5fb43718e8527060e72ad52": {
          "model_module": "@jupyter-widgets/controls",
          "model_name": "HBoxModel",
          "model_module_version": "1.5.0",
          "state": {
            "_dom_classes": [],
            "_model_module": "@jupyter-widgets/controls",
            "_model_module_version": "1.5.0",
            "_model_name": "HBoxModel",
            "_view_count": null,
            "_view_module": "@jupyter-widgets/controls",
            "_view_module_version": "1.5.0",
            "_view_name": "HBoxView",
            "box_style": "",
            "children": [
              "IPY_MODEL_cd01137537cf4a8d8d06c403e42e164c",
              "IPY_MODEL_ac9e74401dbf45d4a74cdd584d0ac84f",
              "IPY_MODEL_bde15c3868c0460e9a3d4b97de1dfd06"
            ],
            "layout": "IPY_MODEL_d69580bd8c8e482e878f87a93bba7f76"
          }
        },
        "cd01137537cf4a8d8d06c403e42e164c": {
          "model_module": "@jupyter-widgets/controls",
          "model_name": "HTMLModel",
          "model_module_version": "1.5.0",
          "state": {
            "_dom_classes": [],
            "_model_module": "@jupyter-widgets/controls",
            "_model_module_version": "1.5.0",
            "_model_name": "HTMLModel",
            "_view_count": null,
            "_view_module": "@jupyter-widgets/controls",
            "_view_module_version": "1.5.0",
            "_view_name": "HTMLView",
            "description": "",
            "description_tooltip": null,
            "layout": "IPY_MODEL_22158ab707a14d2bbebc10ee1bcd5238",
            "placeholder": "​",
            "style": "IPY_MODEL_7fbc8a9773df472bbbe563ef624a563c",
            "value": "Generating train split: 100%"
          }
        },
        "ac9e74401dbf45d4a74cdd584d0ac84f": {
          "model_module": "@jupyter-widgets/controls",
          "model_name": "FloatProgressModel",
          "model_module_version": "1.5.0",
          "state": {
            "_dom_classes": [],
            "_model_module": "@jupyter-widgets/controls",
            "_model_module_version": "1.5.0",
            "_model_name": "FloatProgressModel",
            "_view_count": null,
            "_view_module": "@jupyter-widgets/controls",
            "_view_module_version": "1.5.0",
            "_view_name": "ProgressView",
            "bar_style": "success",
            "description": "",
            "description_tooltip": null,
            "layout": "IPY_MODEL_a3b0f8532e2741c0b286b09c94c2d821",
            "max": 14041,
            "min": 0,
            "orientation": "horizontal",
            "style": "IPY_MODEL_2fb0d60cd2b24f95ad35cc8cf523b70f",
            "value": 14041
          }
        },
        "bde15c3868c0460e9a3d4b97de1dfd06": {
          "model_module": "@jupyter-widgets/controls",
          "model_name": "HTMLModel",
          "model_module_version": "1.5.0",
          "state": {
            "_dom_classes": [],
            "_model_module": "@jupyter-widgets/controls",
            "_model_module_version": "1.5.0",
            "_model_name": "HTMLModel",
            "_view_count": null,
            "_view_module": "@jupyter-widgets/controls",
            "_view_module_version": "1.5.0",
            "_view_name": "HTMLView",
            "description": "",
            "description_tooltip": null,
            "layout": "IPY_MODEL_b3d512b845ad42bcb575fb7d58f2d57d",
            "placeholder": "​",
            "style": "IPY_MODEL_ecd08a31130548bd96574fa6d21c606b",
            "value": " 14041/14041 [00:00&lt;00:00, 84924.57 examples/s]"
          }
        },
        "d69580bd8c8e482e878f87a93bba7f76": {
          "model_module": "@jupyter-widgets/base",
          "model_name": "LayoutModel",
          "model_module_version": "1.2.0",
          "state": {
            "_model_module": "@jupyter-widgets/base",
            "_model_module_version": "1.2.0",
            "_model_name": "LayoutModel",
            "_view_count": null,
            "_view_module": "@jupyter-widgets/base",
            "_view_module_version": "1.2.0",
            "_view_name": "LayoutView",
            "align_content": null,
            "align_items": null,
            "align_self": null,
            "border": null,
            "bottom": null,
            "display": null,
            "flex": null,
            "flex_flow": null,
            "grid_area": null,
            "grid_auto_columns": null,
            "grid_auto_flow": null,
            "grid_auto_rows": null,
            "grid_column": null,
            "grid_gap": null,
            "grid_row": null,
            "grid_template_areas": null,
            "grid_template_columns": null,
            "grid_template_rows": null,
            "height": null,
            "justify_content": null,
            "justify_items": null,
            "left": null,
            "margin": null,
            "max_height": null,
            "max_width": null,
            "min_height": null,
            "min_width": null,
            "object_fit": null,
            "object_position": null,
            "order": null,
            "overflow": null,
            "overflow_x": null,
            "overflow_y": null,
            "padding": null,
            "right": null,
            "top": null,
            "visibility": null,
            "width": null
          }
        },
        "22158ab707a14d2bbebc10ee1bcd5238": {
          "model_module": "@jupyter-widgets/base",
          "model_name": "LayoutModel",
          "model_module_version": "1.2.0",
          "state": {
            "_model_module": "@jupyter-widgets/base",
            "_model_module_version": "1.2.0",
            "_model_name": "LayoutModel",
            "_view_count": null,
            "_view_module": "@jupyter-widgets/base",
            "_view_module_version": "1.2.0",
            "_view_name": "LayoutView",
            "align_content": null,
            "align_items": null,
            "align_self": null,
            "border": null,
            "bottom": null,
            "display": null,
            "flex": null,
            "flex_flow": null,
            "grid_area": null,
            "grid_auto_columns": null,
            "grid_auto_flow": null,
            "grid_auto_rows": null,
            "grid_column": null,
            "grid_gap": null,
            "grid_row": null,
            "grid_template_areas": null,
            "grid_template_columns": null,
            "grid_template_rows": null,
            "height": null,
            "justify_content": null,
            "justify_items": null,
            "left": null,
            "margin": null,
            "max_height": null,
            "max_width": null,
            "min_height": null,
            "min_width": null,
            "object_fit": null,
            "object_position": null,
            "order": null,
            "overflow": null,
            "overflow_x": null,
            "overflow_y": null,
            "padding": null,
            "right": null,
            "top": null,
            "visibility": null,
            "width": null
          }
        },
        "7fbc8a9773df472bbbe563ef624a563c": {
          "model_module": "@jupyter-widgets/controls",
          "model_name": "DescriptionStyleModel",
          "model_module_version": "1.5.0",
          "state": {
            "_model_module": "@jupyter-widgets/controls",
            "_model_module_version": "1.5.0",
            "_model_name": "DescriptionStyleModel",
            "_view_count": null,
            "_view_module": "@jupyter-widgets/base",
            "_view_module_version": "1.2.0",
            "_view_name": "StyleView",
            "description_width": ""
          }
        },
        "a3b0f8532e2741c0b286b09c94c2d821": {
          "model_module": "@jupyter-widgets/base",
          "model_name": "LayoutModel",
          "model_module_version": "1.2.0",
          "state": {
            "_model_module": "@jupyter-widgets/base",
            "_model_module_version": "1.2.0",
            "_model_name": "LayoutModel",
            "_view_count": null,
            "_view_module": "@jupyter-widgets/base",
            "_view_module_version": "1.2.0",
            "_view_name": "LayoutView",
            "align_content": null,
            "align_items": null,
            "align_self": null,
            "border": null,
            "bottom": null,
            "display": null,
            "flex": null,
            "flex_flow": null,
            "grid_area": null,
            "grid_auto_columns": null,
            "grid_auto_flow": null,
            "grid_auto_rows": null,
            "grid_column": null,
            "grid_gap": null,
            "grid_row": null,
            "grid_template_areas": null,
            "grid_template_columns": null,
            "grid_template_rows": null,
            "height": null,
            "justify_content": null,
            "justify_items": null,
            "left": null,
            "margin": null,
            "max_height": null,
            "max_width": null,
            "min_height": null,
            "min_width": null,
            "object_fit": null,
            "object_position": null,
            "order": null,
            "overflow": null,
            "overflow_x": null,
            "overflow_y": null,
            "padding": null,
            "right": null,
            "top": null,
            "visibility": null,
            "width": null
          }
        },
        "2fb0d60cd2b24f95ad35cc8cf523b70f": {
          "model_module": "@jupyter-widgets/controls",
          "model_name": "ProgressStyleModel",
          "model_module_version": "1.5.0",
          "state": {
            "_model_module": "@jupyter-widgets/controls",
            "_model_module_version": "1.5.0",
            "_model_name": "ProgressStyleModel",
            "_view_count": null,
            "_view_module": "@jupyter-widgets/base",
            "_view_module_version": "1.2.0",
            "_view_name": "StyleView",
            "bar_color": null,
            "description_width": ""
          }
        },
        "b3d512b845ad42bcb575fb7d58f2d57d": {
          "model_module": "@jupyter-widgets/base",
          "model_name": "LayoutModel",
          "model_module_version": "1.2.0",
          "state": {
            "_model_module": "@jupyter-widgets/base",
            "_model_module_version": "1.2.0",
            "_model_name": "LayoutModel",
            "_view_count": null,
            "_view_module": "@jupyter-widgets/base",
            "_view_module_version": "1.2.0",
            "_view_name": "LayoutView",
            "align_content": null,
            "align_items": null,
            "align_self": null,
            "border": null,
            "bottom": null,
            "display": null,
            "flex": null,
            "flex_flow": null,
            "grid_area": null,
            "grid_auto_columns": null,
            "grid_auto_flow": null,
            "grid_auto_rows": null,
            "grid_column": null,
            "grid_gap": null,
            "grid_row": null,
            "grid_template_areas": null,
            "grid_template_columns": null,
            "grid_template_rows": null,
            "height": null,
            "justify_content": null,
            "justify_items": null,
            "left": null,
            "margin": null,
            "max_height": null,
            "max_width": null,
            "min_height": null,
            "min_width": null,
            "object_fit": null,
            "object_position": null,
            "order": null,
            "overflow": null,
            "overflow_x": null,
            "overflow_y": null,
            "padding": null,
            "right": null,
            "top": null,
            "visibility": null,
            "width": null
          }
        },
        "ecd08a31130548bd96574fa6d21c606b": {
          "model_module": "@jupyter-widgets/controls",
          "model_name": "DescriptionStyleModel",
          "model_module_version": "1.5.0",
          "state": {
            "_model_module": "@jupyter-widgets/controls",
            "_model_module_version": "1.5.0",
            "_model_name": "DescriptionStyleModel",
            "_view_count": null,
            "_view_module": "@jupyter-widgets/base",
            "_view_module_version": "1.2.0",
            "_view_name": "StyleView",
            "description_width": ""
          }
        },
        "171e09e2e45f4af39b19efdf00576d96": {
          "model_module": "@jupyter-widgets/controls",
          "model_name": "HBoxModel",
          "model_module_version": "1.5.0",
          "state": {
            "_dom_classes": [],
            "_model_module": "@jupyter-widgets/controls",
            "_model_module_version": "1.5.0",
            "_model_name": "HBoxModel",
            "_view_count": null,
            "_view_module": "@jupyter-widgets/controls",
            "_view_module_version": "1.5.0",
            "_view_name": "HBoxView",
            "box_style": "",
            "children": [
              "IPY_MODEL_224d314f28bf43e4aeec982186bf8461",
              "IPY_MODEL_b0540d70a2af46fb9cc3734a028533f1",
              "IPY_MODEL_0a1b41a3510f4e4a9ad189884f57b34a"
            ],
            "layout": "IPY_MODEL_144c45913d5e41fab960fd107a745eb4"
          }
        },
        "224d314f28bf43e4aeec982186bf8461": {
          "model_module": "@jupyter-widgets/controls",
          "model_name": "HTMLModel",
          "model_module_version": "1.5.0",
          "state": {
            "_dom_classes": [],
            "_model_module": "@jupyter-widgets/controls",
            "_model_module_version": "1.5.0",
            "_model_name": "HTMLModel",
            "_view_count": null,
            "_view_module": "@jupyter-widgets/controls",
            "_view_module_version": "1.5.0",
            "_view_name": "HTMLView",
            "description": "",
            "description_tooltip": null,
            "layout": "IPY_MODEL_38fcfd933df642ad9fcd37cf73f7a7df",
            "placeholder": "​",
            "style": "IPY_MODEL_fa9a4fdbd9b8488eb37f55eab3a0488e",
            "value": "Generating validation split: 100%"
          }
        },
        "b0540d70a2af46fb9cc3734a028533f1": {
          "model_module": "@jupyter-widgets/controls",
          "model_name": "FloatProgressModel",
          "model_module_version": "1.5.0",
          "state": {
            "_dom_classes": [],
            "_model_module": "@jupyter-widgets/controls",
            "_model_module_version": "1.5.0",
            "_model_name": "FloatProgressModel",
            "_view_count": null,
            "_view_module": "@jupyter-widgets/controls",
            "_view_module_version": "1.5.0",
            "_view_name": "ProgressView",
            "bar_style": "success",
            "description": "",
            "description_tooltip": null,
            "layout": "IPY_MODEL_f690e6b3e26f401aa44b231f3ad3393e",
            "max": 3250,
            "min": 0,
            "orientation": "horizontal",
            "style": "IPY_MODEL_b2444282035046a496a03fb9b8cc3003",
            "value": 3250
          }
        },
        "0a1b41a3510f4e4a9ad189884f57b34a": {
          "model_module": "@jupyter-widgets/controls",
          "model_name": "HTMLModel",
          "model_module_version": "1.5.0",
          "state": {
            "_dom_classes": [],
            "_model_module": "@jupyter-widgets/controls",
            "_model_module_version": "1.5.0",
            "_model_name": "HTMLModel",
            "_view_count": null,
            "_view_module": "@jupyter-widgets/controls",
            "_view_module_version": "1.5.0",
            "_view_name": "HTMLView",
            "description": "",
            "description_tooltip": null,
            "layout": "IPY_MODEL_bade8d4969424413ba178bab0423deb9",
            "placeholder": "​",
            "style": "IPY_MODEL_5267d9552c014560b20137b05e4c7bf8",
            "value": " 3250/3250 [00:00&lt;00:00, 52684.93 examples/s]"
          }
        },
        "144c45913d5e41fab960fd107a745eb4": {
          "model_module": "@jupyter-widgets/base",
          "model_name": "LayoutModel",
          "model_module_version": "1.2.0",
          "state": {
            "_model_module": "@jupyter-widgets/base",
            "_model_module_version": "1.2.0",
            "_model_name": "LayoutModel",
            "_view_count": null,
            "_view_module": "@jupyter-widgets/base",
            "_view_module_version": "1.2.0",
            "_view_name": "LayoutView",
            "align_content": null,
            "align_items": null,
            "align_self": null,
            "border": null,
            "bottom": null,
            "display": null,
            "flex": null,
            "flex_flow": null,
            "grid_area": null,
            "grid_auto_columns": null,
            "grid_auto_flow": null,
            "grid_auto_rows": null,
            "grid_column": null,
            "grid_gap": null,
            "grid_row": null,
            "grid_template_areas": null,
            "grid_template_columns": null,
            "grid_template_rows": null,
            "height": null,
            "justify_content": null,
            "justify_items": null,
            "left": null,
            "margin": null,
            "max_height": null,
            "max_width": null,
            "min_height": null,
            "min_width": null,
            "object_fit": null,
            "object_position": null,
            "order": null,
            "overflow": null,
            "overflow_x": null,
            "overflow_y": null,
            "padding": null,
            "right": null,
            "top": null,
            "visibility": null,
            "width": null
          }
        },
        "38fcfd933df642ad9fcd37cf73f7a7df": {
          "model_module": "@jupyter-widgets/base",
          "model_name": "LayoutModel",
          "model_module_version": "1.2.0",
          "state": {
            "_model_module": "@jupyter-widgets/base",
            "_model_module_version": "1.2.0",
            "_model_name": "LayoutModel",
            "_view_count": null,
            "_view_module": "@jupyter-widgets/base",
            "_view_module_version": "1.2.0",
            "_view_name": "LayoutView",
            "align_content": null,
            "align_items": null,
            "align_self": null,
            "border": null,
            "bottom": null,
            "display": null,
            "flex": null,
            "flex_flow": null,
            "grid_area": null,
            "grid_auto_columns": null,
            "grid_auto_flow": null,
            "grid_auto_rows": null,
            "grid_column": null,
            "grid_gap": null,
            "grid_row": null,
            "grid_template_areas": null,
            "grid_template_columns": null,
            "grid_template_rows": null,
            "height": null,
            "justify_content": null,
            "justify_items": null,
            "left": null,
            "margin": null,
            "max_height": null,
            "max_width": null,
            "min_height": null,
            "min_width": null,
            "object_fit": null,
            "object_position": null,
            "order": null,
            "overflow": null,
            "overflow_x": null,
            "overflow_y": null,
            "padding": null,
            "right": null,
            "top": null,
            "visibility": null,
            "width": null
          }
        },
        "fa9a4fdbd9b8488eb37f55eab3a0488e": {
          "model_module": "@jupyter-widgets/controls",
          "model_name": "DescriptionStyleModel",
          "model_module_version": "1.5.0",
          "state": {
            "_model_module": "@jupyter-widgets/controls",
            "_model_module_version": "1.5.0",
            "_model_name": "DescriptionStyleModel",
            "_view_count": null,
            "_view_module": "@jupyter-widgets/base",
            "_view_module_version": "1.2.0",
            "_view_name": "StyleView",
            "description_width": ""
          }
        },
        "f690e6b3e26f401aa44b231f3ad3393e": {
          "model_module": "@jupyter-widgets/base",
          "model_name": "LayoutModel",
          "model_module_version": "1.2.0",
          "state": {
            "_model_module": "@jupyter-widgets/base",
            "_model_module_version": "1.2.0",
            "_model_name": "LayoutModel",
            "_view_count": null,
            "_view_module": "@jupyter-widgets/base",
            "_view_module_version": "1.2.0",
            "_view_name": "LayoutView",
            "align_content": null,
            "align_items": null,
            "align_self": null,
            "border": null,
            "bottom": null,
            "display": null,
            "flex": null,
            "flex_flow": null,
            "grid_area": null,
            "grid_auto_columns": null,
            "grid_auto_flow": null,
            "grid_auto_rows": null,
            "grid_column": null,
            "grid_gap": null,
            "grid_row": null,
            "grid_template_areas": null,
            "grid_template_columns": null,
            "grid_template_rows": null,
            "height": null,
            "justify_content": null,
            "justify_items": null,
            "left": null,
            "margin": null,
            "max_height": null,
            "max_width": null,
            "min_height": null,
            "min_width": null,
            "object_fit": null,
            "object_position": null,
            "order": null,
            "overflow": null,
            "overflow_x": null,
            "overflow_y": null,
            "padding": null,
            "right": null,
            "top": null,
            "visibility": null,
            "width": null
          }
        },
        "b2444282035046a496a03fb9b8cc3003": {
          "model_module": "@jupyter-widgets/controls",
          "model_name": "ProgressStyleModel",
          "model_module_version": "1.5.0",
          "state": {
            "_model_module": "@jupyter-widgets/controls",
            "_model_module_version": "1.5.0",
            "_model_name": "ProgressStyleModel",
            "_view_count": null,
            "_view_module": "@jupyter-widgets/base",
            "_view_module_version": "1.2.0",
            "_view_name": "StyleView",
            "bar_color": null,
            "description_width": ""
          }
        },
        "bade8d4969424413ba178bab0423deb9": {
          "model_module": "@jupyter-widgets/base",
          "model_name": "LayoutModel",
          "model_module_version": "1.2.0",
          "state": {
            "_model_module": "@jupyter-widgets/base",
            "_model_module_version": "1.2.0",
            "_model_name": "LayoutModel",
            "_view_count": null,
            "_view_module": "@jupyter-widgets/base",
            "_view_module_version": "1.2.0",
            "_view_name": "LayoutView",
            "align_content": null,
            "align_items": null,
            "align_self": null,
            "border": null,
            "bottom": null,
            "display": null,
            "flex": null,
            "flex_flow": null,
            "grid_area": null,
            "grid_auto_columns": null,
            "grid_auto_flow": null,
            "grid_auto_rows": null,
            "grid_column": null,
            "grid_gap": null,
            "grid_row": null,
            "grid_template_areas": null,
            "grid_template_columns": null,
            "grid_template_rows": null,
            "height": null,
            "justify_content": null,
            "justify_items": null,
            "left": null,
            "margin": null,
            "max_height": null,
            "max_width": null,
            "min_height": null,
            "min_width": null,
            "object_fit": null,
            "object_position": null,
            "order": null,
            "overflow": null,
            "overflow_x": null,
            "overflow_y": null,
            "padding": null,
            "right": null,
            "top": null,
            "visibility": null,
            "width": null
          }
        },
        "5267d9552c014560b20137b05e4c7bf8": {
          "model_module": "@jupyter-widgets/controls",
          "model_name": "DescriptionStyleModel",
          "model_module_version": "1.5.0",
          "state": {
            "_model_module": "@jupyter-widgets/controls",
            "_model_module_version": "1.5.0",
            "_model_name": "DescriptionStyleModel",
            "_view_count": null,
            "_view_module": "@jupyter-widgets/base",
            "_view_module_version": "1.2.0",
            "_view_name": "StyleView",
            "description_width": ""
          }
        },
        "bbca5e66d8f64b12862cceab60747605": {
          "model_module": "@jupyter-widgets/controls",
          "model_name": "HBoxModel",
          "model_module_version": "1.5.0",
          "state": {
            "_dom_classes": [],
            "_model_module": "@jupyter-widgets/controls",
            "_model_module_version": "1.5.0",
            "_model_name": "HBoxModel",
            "_view_count": null,
            "_view_module": "@jupyter-widgets/controls",
            "_view_module_version": "1.5.0",
            "_view_name": "HBoxView",
            "box_style": "",
            "children": [
              "IPY_MODEL_44a11262a79545449fd43189dbc54bed",
              "IPY_MODEL_b655efa15b97400d8c9c9f09a4a6478d",
              "IPY_MODEL_9c130247bf10440d8763dfedeab6b857"
            ],
            "layout": "IPY_MODEL_3f6aaaa9aaac46ffb578ea846bdc35bb"
          }
        },
        "44a11262a79545449fd43189dbc54bed": {
          "model_module": "@jupyter-widgets/controls",
          "model_name": "HTMLModel",
          "model_module_version": "1.5.0",
          "state": {
            "_dom_classes": [],
            "_model_module": "@jupyter-widgets/controls",
            "_model_module_version": "1.5.0",
            "_model_name": "HTMLModel",
            "_view_count": null,
            "_view_module": "@jupyter-widgets/controls",
            "_view_module_version": "1.5.0",
            "_view_name": "HTMLView",
            "description": "",
            "description_tooltip": null,
            "layout": "IPY_MODEL_75eeab736037400cb4741fdb17af6a7f",
            "placeholder": "​",
            "style": "IPY_MODEL_8e52864517a04bb28965fff27ecee6de",
            "value": "Generating test split: 100%"
          }
        },
        "b655efa15b97400d8c9c9f09a4a6478d": {
          "model_module": "@jupyter-widgets/controls",
          "model_name": "FloatProgressModel",
          "model_module_version": "1.5.0",
          "state": {
            "_dom_classes": [],
            "_model_module": "@jupyter-widgets/controls",
            "_model_module_version": "1.5.0",
            "_model_name": "FloatProgressModel",
            "_view_count": null,
            "_view_module": "@jupyter-widgets/controls",
            "_view_module_version": "1.5.0",
            "_view_name": "ProgressView",
            "bar_style": "success",
            "description": "",
            "description_tooltip": null,
            "layout": "IPY_MODEL_ba6a49f9779a46a9a03064a09c87f077",
            "max": 3453,
            "min": 0,
            "orientation": "horizontal",
            "style": "IPY_MODEL_5420eda2f6d34251af2201e66e1529fe",
            "value": 3453
          }
        },
        "9c130247bf10440d8763dfedeab6b857": {
          "model_module": "@jupyter-widgets/controls",
          "model_name": "HTMLModel",
          "model_module_version": "1.5.0",
          "state": {
            "_dom_classes": [],
            "_model_module": "@jupyter-widgets/controls",
            "_model_module_version": "1.5.0",
            "_model_name": "HTMLModel",
            "_view_count": null,
            "_view_module": "@jupyter-widgets/controls",
            "_view_module_version": "1.5.0",
            "_view_name": "HTMLView",
            "description": "",
            "description_tooltip": null,
            "layout": "IPY_MODEL_2abe227e48cd4bd58558a75ea8a7791f",
            "placeholder": "​",
            "style": "IPY_MODEL_ae920c88f043440bb2e3dbed7c53cfcd",
            "value": " 3453/3453 [00:00&lt;00:00, 46723.66 examples/s]"
          }
        },
        "3f6aaaa9aaac46ffb578ea846bdc35bb": {
          "model_module": "@jupyter-widgets/base",
          "model_name": "LayoutModel",
          "model_module_version": "1.2.0",
          "state": {
            "_model_module": "@jupyter-widgets/base",
            "_model_module_version": "1.2.0",
            "_model_name": "LayoutModel",
            "_view_count": null,
            "_view_module": "@jupyter-widgets/base",
            "_view_module_version": "1.2.0",
            "_view_name": "LayoutView",
            "align_content": null,
            "align_items": null,
            "align_self": null,
            "border": null,
            "bottom": null,
            "display": null,
            "flex": null,
            "flex_flow": null,
            "grid_area": null,
            "grid_auto_columns": null,
            "grid_auto_flow": null,
            "grid_auto_rows": null,
            "grid_column": null,
            "grid_gap": null,
            "grid_row": null,
            "grid_template_areas": null,
            "grid_template_columns": null,
            "grid_template_rows": null,
            "height": null,
            "justify_content": null,
            "justify_items": null,
            "left": null,
            "margin": null,
            "max_height": null,
            "max_width": null,
            "min_height": null,
            "min_width": null,
            "object_fit": null,
            "object_position": null,
            "order": null,
            "overflow": null,
            "overflow_x": null,
            "overflow_y": null,
            "padding": null,
            "right": null,
            "top": null,
            "visibility": null,
            "width": null
          }
        },
        "75eeab736037400cb4741fdb17af6a7f": {
          "model_module": "@jupyter-widgets/base",
          "model_name": "LayoutModel",
          "model_module_version": "1.2.0",
          "state": {
            "_model_module": "@jupyter-widgets/base",
            "_model_module_version": "1.2.0",
            "_model_name": "LayoutModel",
            "_view_count": null,
            "_view_module": "@jupyter-widgets/base",
            "_view_module_version": "1.2.0",
            "_view_name": "LayoutView",
            "align_content": null,
            "align_items": null,
            "align_self": null,
            "border": null,
            "bottom": null,
            "display": null,
            "flex": null,
            "flex_flow": null,
            "grid_area": null,
            "grid_auto_columns": null,
            "grid_auto_flow": null,
            "grid_auto_rows": null,
            "grid_column": null,
            "grid_gap": null,
            "grid_row": null,
            "grid_template_areas": null,
            "grid_template_columns": null,
            "grid_template_rows": null,
            "height": null,
            "justify_content": null,
            "justify_items": null,
            "left": null,
            "margin": null,
            "max_height": null,
            "max_width": null,
            "min_height": null,
            "min_width": null,
            "object_fit": null,
            "object_position": null,
            "order": null,
            "overflow": null,
            "overflow_x": null,
            "overflow_y": null,
            "padding": null,
            "right": null,
            "top": null,
            "visibility": null,
            "width": null
          }
        },
        "8e52864517a04bb28965fff27ecee6de": {
          "model_module": "@jupyter-widgets/controls",
          "model_name": "DescriptionStyleModel",
          "model_module_version": "1.5.0",
          "state": {
            "_model_module": "@jupyter-widgets/controls",
            "_model_module_version": "1.5.0",
            "_model_name": "DescriptionStyleModel",
            "_view_count": null,
            "_view_module": "@jupyter-widgets/base",
            "_view_module_version": "1.2.0",
            "_view_name": "StyleView",
            "description_width": ""
          }
        },
        "ba6a49f9779a46a9a03064a09c87f077": {
          "model_module": "@jupyter-widgets/base",
          "model_name": "LayoutModel",
          "model_module_version": "1.2.0",
          "state": {
            "_model_module": "@jupyter-widgets/base",
            "_model_module_version": "1.2.0",
            "_model_name": "LayoutModel",
            "_view_count": null,
            "_view_module": "@jupyter-widgets/base",
            "_view_module_version": "1.2.0",
            "_view_name": "LayoutView",
            "align_content": null,
            "align_items": null,
            "align_self": null,
            "border": null,
            "bottom": null,
            "display": null,
            "flex": null,
            "flex_flow": null,
            "grid_area": null,
            "grid_auto_columns": null,
            "grid_auto_flow": null,
            "grid_auto_rows": null,
            "grid_column": null,
            "grid_gap": null,
            "grid_row": null,
            "grid_template_areas": null,
            "grid_template_columns": null,
            "grid_template_rows": null,
            "height": null,
            "justify_content": null,
            "justify_items": null,
            "left": null,
            "margin": null,
            "max_height": null,
            "max_width": null,
            "min_height": null,
            "min_width": null,
            "object_fit": null,
            "object_position": null,
            "order": null,
            "overflow": null,
            "overflow_x": null,
            "overflow_y": null,
            "padding": null,
            "right": null,
            "top": null,
            "visibility": null,
            "width": null
          }
        },
        "5420eda2f6d34251af2201e66e1529fe": {
          "model_module": "@jupyter-widgets/controls",
          "model_name": "ProgressStyleModel",
          "model_module_version": "1.5.0",
          "state": {
            "_model_module": "@jupyter-widgets/controls",
            "_model_module_version": "1.5.0",
            "_model_name": "ProgressStyleModel",
            "_view_count": null,
            "_view_module": "@jupyter-widgets/base",
            "_view_module_version": "1.2.0",
            "_view_name": "StyleView",
            "bar_color": null,
            "description_width": ""
          }
        },
        "2abe227e48cd4bd58558a75ea8a7791f": {
          "model_module": "@jupyter-widgets/base",
          "model_name": "LayoutModel",
          "model_module_version": "1.2.0",
          "state": {
            "_model_module": "@jupyter-widgets/base",
            "_model_module_version": "1.2.0",
            "_model_name": "LayoutModel",
            "_view_count": null,
            "_view_module": "@jupyter-widgets/base",
            "_view_module_version": "1.2.0",
            "_view_name": "LayoutView",
            "align_content": null,
            "align_items": null,
            "align_self": null,
            "border": null,
            "bottom": null,
            "display": null,
            "flex": null,
            "flex_flow": null,
            "grid_area": null,
            "grid_auto_columns": null,
            "grid_auto_flow": null,
            "grid_auto_rows": null,
            "grid_column": null,
            "grid_gap": null,
            "grid_row": null,
            "grid_template_areas": null,
            "grid_template_columns": null,
            "grid_template_rows": null,
            "height": null,
            "justify_content": null,
            "justify_items": null,
            "left": null,
            "margin": null,
            "max_height": null,
            "max_width": null,
            "min_height": null,
            "min_width": null,
            "object_fit": null,
            "object_position": null,
            "order": null,
            "overflow": null,
            "overflow_x": null,
            "overflow_y": null,
            "padding": null,
            "right": null,
            "top": null,
            "visibility": null,
            "width": null
          }
        },
        "ae920c88f043440bb2e3dbed7c53cfcd": {
          "model_module": "@jupyter-widgets/controls",
          "model_name": "DescriptionStyleModel",
          "model_module_version": "1.5.0",
          "state": {
            "_model_module": "@jupyter-widgets/controls",
            "_model_module_version": "1.5.0",
            "_model_name": "DescriptionStyleModel",
            "_view_count": null,
            "_view_module": "@jupyter-widgets/base",
            "_view_module_version": "1.2.0",
            "_view_name": "StyleView",
            "description_width": ""
          }
        }
      }
    },
    "accelerator": "GPU"
  },
  "cells": [
    {
      "cell_type": "code",
      "source": [
        "!pip install datasets --quiet"
      ],
      "metadata": {
        "colab": {
          "base_uri": "https://localhost:8080/"
        },
        "id": "sQ39aoklgV2u",
        "outputId": "5c73b51e-8fcc-4f58-bd3e-e85eac0de66a"
      },
      "execution_count": 2,
      "outputs": [
        {
          "output_type": "stream",
          "name": "stdout",
          "text": [
            "\u001b[2K     \u001b[90m━━━━━━━━━━━━━━━━━━━━━━━━━━━━━━━━━━━━━━━━\u001b[0m \u001b[32m510.5/510.5 kB\u001b[0m \u001b[31m9.5 MB/s\u001b[0m eta \u001b[36m0:00:00\u001b[0m\n",
            "\u001b[2K     \u001b[90m━━━━━━━━━━━━━━━━━━━━━━━━━━━━━━━━━━━━━━━━\u001b[0m \u001b[32m116.3/116.3 kB\u001b[0m \u001b[31m11.2 MB/s\u001b[0m eta \u001b[36m0:00:00\u001b[0m\n",
            "\u001b[2K     \u001b[90m━━━━━━━━━━━━━━━━━━━━━━━━━━━━━━━━━━━━━━━━\u001b[0m \u001b[32m194.1/194.1 kB\u001b[0m \u001b[31m11.5 MB/s\u001b[0m eta \u001b[36m0:00:00\u001b[0m\n",
            "\u001b[2K     \u001b[90m━━━━━━━━━━━━━━━━━━━━━━━━━━━━━━━━━━━━━━━━\u001b[0m \u001b[32m134.8/134.8 kB\u001b[0m \u001b[31m13.3 MB/s\u001b[0m eta \u001b[36m0:00:00\u001b[0m\n",
            "\u001b[?25h"
          ]
        }
      ]
    },
    {
      "cell_type": "markdown",
      "source": [
        "Import packages"
      ],
      "metadata": {
        "id": "CvEQsKdbL3R6"
      }
    },
    {
      "cell_type": "code",
      "source": [
        "import torch\n",
        "import torch.nn as nn\n",
        "import torch.nn.functional as F\n",
        "import torch.optim as optim\n",
        "from torch.nn.utils.rnn import pad_sequence\n",
        "from torch.utils.data import DataLoader, TensorDataset\n",
        "\n",
        "from sklearn.metrics import accuracy_score, f1_score, balanced_accuracy_score, precision_score, recall_score\n",
        "\n",
        "import numpy as np\n",
        "\n",
        "from tqdm import tqdm\n",
        "\n",
        "device = torch.device(\"cuda\" if torch.cuda.is_available() else \"cpu\")\n",
        "\n",
        "print(f\"Using {device}...\")"
      ],
      "metadata": {
        "id": "suiP9vbNDq17",
        "colab": {
          "base_uri": "https://localhost:8080/"
        },
        "outputId": "202156e2-0f80-4df9-e5dc-aa05ce024e4b"
      },
      "execution_count": 3,
      "outputs": [
        {
          "output_type": "stream",
          "name": "stdout",
          "text": [
            "Using cuda...\n"
          ]
        }
      ]
    },
    {
      "cell_type": "markdown",
      "source": [
        "Load CoNLL 2003 dataset"
      ],
      "metadata": {
        "id": "dcJiBNbYL5Ab"
      }
    },
    {
      "cell_type": "code",
      "source": [
        "from datasets import load_dataset\n",
        "\n",
        "# Load CoNLL 2003 dataset\n",
        "conll2003 = load_dataset(\"conll2003\")\n",
        "\n",
        "# Accessing train, validation, and test splits\n",
        "train_dataset = conll2003['train']\n",
        "validation_dataset = conll2003['validation']\n",
        "test_dataset = conll2003['test']\n"
      ],
      "metadata": {
        "colab": {
          "base_uri": "https://localhost:8080/",
          "height": 313,
          "referenced_widgets": [
            "e53666eb0eab46aaabdbb2493703197d",
            "0a08b411fd3243d4a2e78a5616e9fb77",
            "2208edeac861405e812aac9d6165c7cf",
            "85bf368373ef46dd9c24bba9dd8aaaba",
            "bedd33384e544212bad1b4b7484a27c3",
            "65caf16cde914b36a45d31048373f30c",
            "8cf6cde6c51248948c2c33966fee8ddc",
            "73e77dc4e20248449eddd0ec24e0ff1a",
            "f5956a94730247b2b25a7d49ad08078f",
            "af1e114290a7459f829d93e7a3ebcd0c",
            "b48a91b263834c318b03c5761ea581e2",
            "d1de76173a0d4393b43e92d6b3f87b60",
            "5145c73b91494ace89f89bd02c2f6260",
            "c16f972cb3b9417196e01f97ec1cce5c",
            "9838057fb7bc4063a92cc0db504369db",
            "9e8ef74549e4443eab0ce67bb9ceead7",
            "fc48dd80fdb04f5b805f0a6649e9a462",
            "a2a0e2ffe32d489abdabae7d8d98008a",
            "a42d423fed6341459de45d053276b811",
            "4bcdb429f7bb4c0ca087b0414a7132c9",
            "00bb89bc9f144e9a9916fdf86bb8af76",
            "56e8448e3acc4988a1bc3efe11687931",
            "0451f42d607e4382837d7c836efa8d9f",
            "b61cccd8d70a41c7bab7f2fe6304adfe",
            "e06ddb9857bd497bbe820e3766d03f0f",
            "609ec4bdc3674e96943b66c08e791096",
            "99cc89e68db74ab7acfc00665d580757",
            "5b06eebf8a7f4e23a032c9c466581943",
            "ede7e95904e140b38044167dbe70bd8a",
            "c552f6c093ae42adbdde6ef08734c48e",
            "9bc30bdc09de4318af95dbc7c8904fef",
            "de9f522fd3d4499ca65a67fcab38a5af",
            "caaa75e58e484fca87543f8709b5b839",
            "0b4f4a27c5fb43718e8527060e72ad52",
            "cd01137537cf4a8d8d06c403e42e164c",
            "ac9e74401dbf45d4a74cdd584d0ac84f",
            "bde15c3868c0460e9a3d4b97de1dfd06",
            "d69580bd8c8e482e878f87a93bba7f76",
            "22158ab707a14d2bbebc10ee1bcd5238",
            "7fbc8a9773df472bbbe563ef624a563c",
            "a3b0f8532e2741c0b286b09c94c2d821",
            "2fb0d60cd2b24f95ad35cc8cf523b70f",
            "b3d512b845ad42bcb575fb7d58f2d57d",
            "ecd08a31130548bd96574fa6d21c606b",
            "171e09e2e45f4af39b19efdf00576d96",
            "224d314f28bf43e4aeec982186bf8461",
            "b0540d70a2af46fb9cc3734a028533f1",
            "0a1b41a3510f4e4a9ad189884f57b34a",
            "144c45913d5e41fab960fd107a745eb4",
            "38fcfd933df642ad9fcd37cf73f7a7df",
            "fa9a4fdbd9b8488eb37f55eab3a0488e",
            "f690e6b3e26f401aa44b231f3ad3393e",
            "b2444282035046a496a03fb9b8cc3003",
            "bade8d4969424413ba178bab0423deb9",
            "5267d9552c014560b20137b05e4c7bf8",
            "bbca5e66d8f64b12862cceab60747605",
            "44a11262a79545449fd43189dbc54bed",
            "b655efa15b97400d8c9c9f09a4a6478d",
            "9c130247bf10440d8763dfedeab6b857",
            "3f6aaaa9aaac46ffb578ea846bdc35bb",
            "75eeab736037400cb4741fdb17af6a7f",
            "8e52864517a04bb28965fff27ecee6de",
            "ba6a49f9779a46a9a03064a09c87f077",
            "5420eda2f6d34251af2201e66e1529fe",
            "2abe227e48cd4bd58558a75ea8a7791f",
            "ae920c88f043440bb2e3dbed7c53cfcd"
          ]
        },
        "id": "aO6yVQ1uvAFH",
        "outputId": "baf9ec7d-33a2-4c80-c0c6-df6e2c0c5997"
      },
      "execution_count": 4,
      "outputs": [
        {
          "output_type": "stream",
          "name": "stderr",
          "text": [
            "/usr/local/lib/python3.10/dist-packages/huggingface_hub/utils/_token.py:88: UserWarning: \n",
            "The secret `HF_TOKEN` does not exist in your Colab secrets.\n",
            "To authenticate with the Hugging Face Hub, create a token in your settings tab (https://huggingface.co/settings/tokens), set it as secret in your Google Colab and restart your session.\n",
            "You will be able to reuse this secret in all of your notebooks.\n",
            "Please note that authentication is recommended but still optional to access public models or datasets.\n",
            "  warnings.warn(\n"
          ]
        },
        {
          "output_type": "display_data",
          "data": {
            "text/plain": [
              "Downloading data:   0%|          | 0.00/1.23M [00:00<?, ?B/s]"
            ],
            "application/vnd.jupyter.widget-view+json": {
              "version_major": 2,
              "version_minor": 0,
              "model_id": "e53666eb0eab46aaabdbb2493703197d"
            }
          },
          "metadata": {}
        },
        {
          "output_type": "display_data",
          "data": {
            "text/plain": [
              "Downloading data:   0%|          | 0.00/312k [00:00<?, ?B/s]"
            ],
            "application/vnd.jupyter.widget-view+json": {
              "version_major": 2,
              "version_minor": 0,
              "model_id": "d1de76173a0d4393b43e92d6b3f87b60"
            }
          },
          "metadata": {}
        },
        {
          "output_type": "display_data",
          "data": {
            "text/plain": [
              "Downloading data:   0%|          | 0.00/283k [00:00<?, ?B/s]"
            ],
            "application/vnd.jupyter.widget-view+json": {
              "version_major": 2,
              "version_minor": 0,
              "model_id": "0451f42d607e4382837d7c836efa8d9f"
            }
          },
          "metadata": {}
        },
        {
          "output_type": "display_data",
          "data": {
            "text/plain": [
              "Generating train split:   0%|          | 0/14041 [00:00<?, ? examples/s]"
            ],
            "application/vnd.jupyter.widget-view+json": {
              "version_major": 2,
              "version_minor": 0,
              "model_id": "0b4f4a27c5fb43718e8527060e72ad52"
            }
          },
          "metadata": {}
        },
        {
          "output_type": "display_data",
          "data": {
            "text/plain": [
              "Generating validation split:   0%|          | 0/3250 [00:00<?, ? examples/s]"
            ],
            "application/vnd.jupyter.widget-view+json": {
              "version_major": 2,
              "version_minor": 0,
              "model_id": "171e09e2e45f4af39b19efdf00576d96"
            }
          },
          "metadata": {}
        },
        {
          "output_type": "display_data",
          "data": {
            "text/plain": [
              "Generating test split:   0%|          | 0/3453 [00:00<?, ? examples/s]"
            ],
            "application/vnd.jupyter.widget-view+json": {
              "version_major": 2,
              "version_minor": 0,
              "model_id": "bbca5e66d8f64b12862cceab60747605"
            }
          },
          "metadata": {}
        }
      ]
    },
    {
      "cell_type": "markdown",
      "source": [
        "Download GloVe Embeddings"
      ],
      "metadata": {
        "id": "h-NJwWs5L7wC"
      }
    },
    {
      "cell_type": "code",
      "source": [
        "import torchtext.vocab as vocab\n",
        "\n",
        "# Load GloVe embeddings\n",
        "glove = vocab.GloVe(name='6B', dim=100)  # Load 100-dimensional GloVe embeddings"
      ],
      "metadata": {
        "colab": {
          "base_uri": "https://localhost:8080/"
        },
        "id": "EMSOqr8XwSJp",
        "outputId": "5caa2616-4200-4aa5-ad04-acd2ff99eeee"
      },
      "execution_count": 5,
      "outputs": [
        {
          "output_type": "stream",
          "name": "stderr",
          "text": [
            ".vector_cache/glove.6B.zip: 862MB [02:39, 5.41MB/s]                           \n",
            "100%|█████████▉| 399999/400000 [00:19<00:00, 20024.01it/s]\n"
          ]
        }
      ]
    },
    {
      "cell_type": "markdown",
      "source": [
        "Pre-Processing Data"
      ],
      "metadata": {
        "id": "e3jlyqqLL-rx"
      }
    },
    {
      "cell_type": "code",
      "source": [
        "# Convert words to GloVe embeddings\n",
        "def words_to_embeddings(words):\n",
        "    embeddings = []\n",
        "    for word in words:\n",
        "        if word.lower() in glove.stoi:\n",
        "            embeddings.append(glove.vectors[glove.stoi[word.lower()]])\n",
        "        else:\n",
        "            # Use zero vectors for out-of-vocabulary words\n",
        "            embeddings.append(torch.zeros(100))\n",
        "    return embeddings\n",
        "\n",
        "# Convert labels to numerical representations\n",
        "def convert_labels_to_indices(labels, split):\n",
        "    label_indices = []\n",
        "    for label in labels:\n",
        "        if isinstance(label, str):\n",
        "            label_indices.append(conll2003[split].features['ner_tags'].feature.str2int(label))\n",
        "        else:\n",
        "            # Handle the case where labels are already in numerical format\n",
        "            label_indices.append(label)\n",
        "    return torch.tensor(label_indices)\n",
        "\n",
        "\n",
        "# Process the dataset\n",
        "def process_dataset(dataset, split):\n",
        "    tokenized_sentences = []\n",
        "    label_indices = []\n",
        "    for example in dataset:\n",
        "        tokenized_sentences.append(words_to_embeddings(example['tokens']))\n",
        "        label_indices.append(convert_labels_to_indices(example['ner_tags'], split))\n",
        "    return tokenized_sentences, label_indices\n",
        "\n",
        "\n",
        "# Process train, validation, and test datasets\n",
        "train_sentences, train_labels = process_dataset(train_dataset, 'train')\n",
        "validation_sentences, validation_labels = process_dataset(validation_dataset, 'validation')\n",
        "test_sentences, test_labels = process_dataset(test_dataset, 'test')\n",
        "\n"
      ],
      "metadata": {
        "id": "5W7zq4VbvDce"
      },
      "execution_count": 6,
      "outputs": []
    },
    {
      "cell_type": "markdown",
      "source": [
        "Pad all the vectors"
      ],
      "metadata": {
        "id": "luRS7t30MREF"
      }
    },
    {
      "cell_type": "code",
      "source": [
        "# Find the maximum sentence length among all splits\n",
        "max_sentence_length = max(\n",
        "    max(len(sentence) for sentence in train_sentences),\n",
        "    max(len(sentence) for sentence in validation_sentences),\n",
        "    max(len(sentence) for sentence in test_sentences)\n",
        ")\n",
        "\n",
        "# Pad sentences and labels to the maximum length\n",
        "def pad_data(sentences, labels, max_length):\n",
        "    padded_sentences = []\n",
        "    padded_labels = []\n",
        "    for sentence, label in zip(sentences, labels):\n",
        "        # Calculate the number of padding tokens needed for sentences\n",
        "        num_padding_tokens = max_length - len(sentence)\n",
        "        # Pad the sentence\n",
        "        padded_sentence = torch.nn.functional.pad(torch.stack(sentence), pad=(0, 0, 0, num_padding_tokens), mode='constant', value=0)\n",
        "        padded_sentences.append(padded_sentence)\n",
        "\n",
        "        # Pad the label\n",
        "        padded_label = torch.nn.functional.pad(label, pad=(0, num_padding_tokens), mode='constant', value=0)\n",
        "        padded_labels.append(padded_label)\n",
        "\n",
        "    padded_sentences = torch.stack(padded_sentences, dim=0)\n",
        "    padded_labels = torch.stack(padded_labels, dim=0)\n",
        "\n",
        "    return padded_sentences, padded_labels\n",
        "\n",
        "# Pad all splits\n",
        "train_sentences_padded, train_labels_padded = pad_data(train_sentences, train_labels, max_sentence_length)\n",
        "validation_sentences_padded, validation_labels_padded = pad_data(validation_sentences, validation_labels, max_sentence_length)\n",
        "test_sentences_padded, test_labels_padded = pad_data(test_sentences, test_labels, max_sentence_length)\n"
      ],
      "metadata": {
        "id": "WQi1XUNm9JSX"
      },
      "execution_count": 7,
      "outputs": []
    },
    {
      "cell_type": "markdown",
      "source": [
        "Check shapes of the arrays are similar"
      ],
      "metadata": {
        "id": "u3Ly-QTNMT6J"
      }
    },
    {
      "cell_type": "code",
      "source": [
        "print(train_sentences_padded.shape, train_labels_padded.shape)\n",
        "print(validation_sentences_padded.shape, validation_labels_padded.shape)\n",
        "print(test_sentences_padded.shape, test_labels_padded.shape)\n"
      ],
      "metadata": {
        "colab": {
          "base_uri": "https://localhost:8080/"
        },
        "id": "RRbTYKKd9k6b",
        "outputId": "c177a698-f908-49e9-f1ec-1eaaf6cab434"
      },
      "execution_count": 8,
      "outputs": [
        {
          "output_type": "stream",
          "name": "stdout",
          "text": [
            "torch.Size([14041, 124, 100]) torch.Size([14041, 124])\n",
            "torch.Size([3250, 124, 100]) torch.Size([3250, 124])\n",
            "torch.Size([3453, 124, 100]) torch.Size([3453, 124])\n"
          ]
        }
      ]
    },
    {
      "cell_type": "markdown",
      "source": [
        "# Models"
      ],
      "metadata": {
        "id": "M5Fyw_uQJSQl"
      }
    },
    {
      "cell_type": "markdown",
      "source": [
        "Creating the Expert for the MoE. I've used a simple MLP as an expert"
      ],
      "metadata": {
        "id": "7G-dNhOAMW6p"
      }
    },
    {
      "cell_type": "code",
      "source": [
        "class Expert(nn.Module):\n",
        "  \"\"\"Simple expert for MoE layer\"\"\"\n",
        "  def __init__(self, input_dim, expert_dim):\n",
        "    super(Expert, self).__init__()\n",
        "    self.input_dim = input_dim\n",
        "    self.expert_dim = expert_dim\n",
        "\n",
        "    self.fc1 = nn.Linear(input_dim, expert_dim*2)\n",
        "    self.relu = nn.ReLU()\n",
        "    self.dp1 = nn.Dropout(0.1)\n",
        "    self.fc2 = nn.Linear(expert_dim*2, expert_dim)\n",
        "    self.sigmoid = nn.Sigmoid()\n",
        "    self.dp2 = nn.Dropout(0.1)\n",
        "\n",
        "  def forward(self, x):\n",
        "    \"\"\"\n",
        "    Forward pass of the expert\n",
        "    \"\"\"\n",
        "    x = self.fc1(x)\n",
        "    x = self.relu(x)\n",
        "    x = self.dp1(x)\n",
        "    x = self.fc2(x)\n",
        "    x = self.sigmoid(x)\n",
        "    x = self.dp2(x)\n",
        "    return x"
      ],
      "metadata": {
        "id": "GURqfyZsyg5Y"
      },
      "execution_count": 9,
      "outputs": []
    },
    {
      "cell_type": "markdown",
      "source": [
        "The MoE Layer"
      ],
      "metadata": {
        "id": "YG_7ZsTzMcKh"
      }
    },
    {
      "cell_type": "code",
      "source": [
        "class MoE_Layer(nn.Module):\n",
        "  \"\"\"Custom Mixture of Experts Layer\"\"\"\n",
        "  def __init__(self, input_dim, expert_dim, num_experts):\n",
        "    super(MoE_Layer, self).__init__()\n",
        "    self.input_dim = input_dim\n",
        "    self.expert_dim = expert_dim\n",
        "    self.num_experts = num_experts\n",
        "\n",
        "    # Expert weights (weights for each expert input)\n",
        "    self.expert_weights = nn.Linear(input_dim, num_experts, bias=True)\n",
        "    self.softmax = nn.Softmax(dim=-1)\n",
        "\n",
        "    # Expert layers\n",
        "    self.experts = nn.ModuleList([Expert(input_dim, expert_dim) for _ in range(num_experts)])\n",
        "\n",
        "  def forward(self, x):\n",
        "    \"\"\"\n",
        "    Forward pass of the MoE layer:\n",
        "      1. Compute expert weights based on input\n",
        "      2. Pass input through each expert\n",
        "      3. Gate expert outputs with weights\n",
        "      4. Combine gated outputs\n",
        "\n",
        "    Args:\n",
        "      x: Input tensor (batch_size, input_dim)\n",
        "\n",
        "    Returns:\n",
        "      output: Combined output tensor (batch_size, expert_dim)\n",
        "    \"\"\"\n",
        "\n",
        "    # 1. Compute expert weights\n",
        "    weights = self.expert_weights(x) # (batch_size, num_experts)\n",
        "    weights = self.softmax(weights) # Normalize weights using softmax\n",
        "\n",
        "    # 2. Pass input through each expert\n",
        "    expert_outputs = []\n",
        "    for expert in self.experts:\n",
        "      out = expert(x) # Pass through Expert\n",
        "      expert_outputs.append(out) # (batch_size, expert_dim)\n",
        "\n",
        "    # 3. Gate expert outputs with weights\n",
        "    # print(\"exp_op0\", torch.stack(expert_outputs, dim=0).shape)\n",
        "    # print(\"exp_op1\", torch.stack(expert_outputs, dim=1).shape)\n",
        "    # print(\"exp_op2\", torch.stack(expert_outputs, dim=2).shape)\n",
        "    # print(\"weights\", weights.shape)\n",
        "    # print(\"weights_unsq\", weights.unsqueeze(-1).shape)\n",
        "    gated_outputs = torch.stack(expert_outputs, dim=2) * weights.unsqueeze(-1) # (batch_size, num_experts, expert_dim)\n",
        "\n",
        "    # 4. Combine gated outputs\n",
        "    output = torch.sum(gated_outputs, dim=2) # (batch_size, expert_dim)\n",
        "    # print(torch.sum(gated_outputs, dim=0).shape)\n",
        "    # print(torch.sum(gated_outputs, dim=1).shape)\n",
        "    # print(torch.sum(gated_outputs, dim=2).shape)\n",
        "    # print(torch.sum(gated_outputs, dim=3).shape)\n",
        "\n",
        "    return output"
      ],
      "metadata": {
        "id": "W9BlWcfdyrLm"
      },
      "execution_count": 10,
      "outputs": []
    },
    {
      "cell_type": "markdown",
      "source": [
        "LSTM + MoE Model"
      ],
      "metadata": {
        "id": "6xJ584zmMhzB"
      }
    },
    {
      "cell_type": "code",
      "source": [
        "class LSTM_MoE(nn.Module):\n",
        "    \"\"\"LSTM model with a MoE layer in the middle\"\"\"\n",
        "    def __init__(self, input_dim, hidden_dim, expert_dim, num_experts, output_dim):\n",
        "        super(LSTM_MoE, self).__init__()\n",
        "\n",
        "        self.lstm1 = nn.LSTM(input_dim, hidden_dim, batch_first=True, bidirectional=True)\n",
        "        self.moe = MoE_Layer(hidden_dim*2, expert_dim, num_experts)\n",
        "        self.lstm2 = nn.LSTM(expert_dim, hidden_dim, batch_first=True, bidirectional=True)\n",
        "\n",
        "        self.fc = nn.Linear(hidden_dim*2, output_dim)\n",
        "\n",
        "    def forward(self, x):\n",
        "        lstm_out1, _ = self.lstm1(x)        #   (batch size, 124, hidden_dim)\n",
        "        moe_out = self.moe(lstm_out1)       #   (batch size, 124, expert_dim) <-- Best expert selected\n",
        "        lstm_out2, _ = self.lstm2(moe_out)  #   (batch size, 124, hidden_dim)\n",
        "\n",
        "        logits = self.fc(lstm_out2)\n",
        "        probabilities = F.log_softmax(logits, dim=-1)\n",
        "\n",
        "        return probabilities\n"
      ],
      "metadata": {
        "id": "ksxRukkOytsW"
      },
      "execution_count": 11,
      "outputs": []
    },
    {
      "cell_type": "markdown",
      "source": [
        "Only LSTM Model"
      ],
      "metadata": {
        "id": "ZAL6EPccMjg5"
      }
    },
    {
      "cell_type": "code",
      "source": [
        "# Define the NER model\n",
        "class NERModel(nn.Module):\n",
        "    \"\"\"Simple Stacked BiLSTM Model\"\"\"\n",
        "    def __init__(self, input_dim, hidden_dim, output_dim):\n",
        "        super(NERModel, self).__init__()\n",
        "\n",
        "        self.lstm1 = nn.LSTM(input_dim, hidden_dim, batch_first=True, bidirectional=True)\n",
        "        self.lstm2 = nn.LSTM(hidden_dim*2, hidden_dim, batch_first=True, bidirectional=True)\n",
        "\n",
        "        self.fc = nn.Linear(hidden_dim * 2, output_dim)\n",
        "\n",
        "    def forward(self, x):\n",
        "        # print(\"in\", x.shape)\n",
        "        lstm_out1, _ = self.lstm1(x)\n",
        "        # print(\"l1\", lstm_out1.shape)\n",
        "        lstm_out2, _ = self.lstm2(lstm_out1)\n",
        "        # print(\"l2\", lstm_out2.shape)\n",
        "\n",
        "        logits = self.fc(lstm_out2)\n",
        "        # print(\"op\", logits.shape)\n",
        "        probabilities = F.log_softmax(logits, dim=1)\n",
        "\n",
        "        return probabilities\n"
      ],
      "metadata": {
        "id": "vHYFh5fI1vok"
      },
      "execution_count": 12,
      "outputs": []
    },
    {
      "cell_type": "markdown",
      "source": [
        "# Training"
      ],
      "metadata": {
        "id": "rNG5IThr1ilF"
      }
    },
    {
      "cell_type": "code",
      "source": [
        "# Define hyperparameters\n",
        "input_dim = 100  # Example input size\n",
        "hidden_dim = 128\n",
        "expert_dim = 64  # Dimension of the expert\n",
        "num_experts = 8  # Number of experts in the MoE layer\n",
        "output_dim = 9  # Example output size\n"
      ],
      "metadata": {
        "id": "zc-6YIQ81P78"
      },
      "execution_count": 13,
      "outputs": []
    },
    {
      "cell_type": "code",
      "source": [
        "# Instantiate the model\n",
        "model = LSTM_MoE(input_dim, hidden_dim, expert_dim, num_experts, output_dim).to(device)\n",
        "\n",
        "# Define loss function and optimizer\n",
        "criterion = nn.CrossEntropyLoss()\n",
        "optimizer = optim.Adam(model.parameters(), lr=1e-3)\n",
        "\n",
        "\n",
        "# Convert padded data to PyTorch DataLoader\n",
        "train_data = TensorDataset(train_sentences_padded, train_labels_padded)\n",
        "train_loader = DataLoader(train_data, batch_size=64, shuffle=True)\n",
        "\n",
        "# Training loop\n",
        "epochs = 10\n",
        "for epoch in range(epochs):\n",
        "    model.train()\n",
        "    epoch_loss = 0\n",
        "    total = 0\n",
        "    correct = 0\n",
        "    for batch_sentences, batch_labels in tqdm(train_loader, desc=f'Epoch {epoch + 1}/{epochs}', leave=False):\n",
        "        optimizer.zero_grad()\n",
        "        batch_sentences = batch_sentences.to(device)\n",
        "        batch_labels = batch_labels.to(device)\n",
        "        logits = model(batch_sentences)\n",
        "        loss = criterion(logits.view(-1, output_dim), batch_labels.view(-1))\n",
        "        loss.backward()\n",
        "        optimizer.step()\n",
        "\n",
        "        top_class = torch.argmax(logits, dim=-1)\n",
        "        # Find accuracy\n",
        "        total += top_class.flatten().size(0)\n",
        "        correct += (top_class.flatten() == batch_labels.flatten()).sum().item()\n",
        "        epoch_loss += loss.item()\n",
        "\n",
        "    print(f'\\nEpoch {epoch + 1}/{epochs}, Loss: {epoch_loss / len(train_loader):.4f}, Accuracy: {(100 * correct / total):.4f}%')\n",
        "\n",
        "print('Training finished!')\n"
      ],
      "metadata": {
        "colab": {
          "base_uri": "https://localhost:8080/"
        },
        "id": "hJQm5Gxm-6k4",
        "outputId": "5cbb8f62-794f-43f5-bcd9-f6ee71bf091b"
      },
      "execution_count": 14,
      "outputs": [
        {
          "output_type": "stream",
          "name": "stderr",
          "text": []
        },
        {
          "output_type": "stream",
          "name": "stdout",
          "text": [
            "\n",
            "Epoch 1/10, Loss: 0.1437, Accuracy: 97.4405%\n"
          ]
        },
        {
          "output_type": "stream",
          "name": "stderr",
          "text": []
        },
        {
          "output_type": "stream",
          "name": "stdout",
          "text": [
            "\n",
            "Epoch 2/10, Loss: 0.0486, Accuracy: 98.4981%\n"
          ]
        },
        {
          "output_type": "stream",
          "name": "stderr",
          "text": []
        },
        {
          "output_type": "stream",
          "name": "stdout",
          "text": [
            "\n",
            "Epoch 3/10, Loss: 0.0333, Accuracy: 98.9176%\n"
          ]
        },
        {
          "output_type": "stream",
          "name": "stderr",
          "text": []
        },
        {
          "output_type": "stream",
          "name": "stdout",
          "text": [
            "\n",
            "Epoch 4/10, Loss: 0.0255, Accuracy: 99.2025%\n"
          ]
        },
        {
          "output_type": "stream",
          "name": "stderr",
          "text": []
        },
        {
          "output_type": "stream",
          "name": "stdout",
          "text": [
            "\n",
            "Epoch 5/10, Loss: 0.0199, Accuracy: 99.3843%\n"
          ]
        },
        {
          "output_type": "stream",
          "name": "stderr",
          "text": []
        },
        {
          "output_type": "stream",
          "name": "stdout",
          "text": [
            "\n",
            "Epoch 6/10, Loss: 0.0146, Accuracy: 99.5876%\n"
          ]
        },
        {
          "output_type": "stream",
          "name": "stderr",
          "text": []
        },
        {
          "output_type": "stream",
          "name": "stdout",
          "text": [
            "\n",
            "Epoch 7/10, Loss: 0.0111, Accuracy: 99.6906%\n"
          ]
        },
        {
          "output_type": "stream",
          "name": "stderr",
          "text": []
        },
        {
          "output_type": "stream",
          "name": "stdout",
          "text": [
            "\n",
            "Epoch 8/10, Loss: 0.0092, Accuracy: 99.7451%\n"
          ]
        },
        {
          "output_type": "stream",
          "name": "stderr",
          "text": []
        },
        {
          "output_type": "stream",
          "name": "stdout",
          "text": [
            "\n",
            "Epoch 9/10, Loss: 0.0076, Accuracy: 99.7832%\n"
          ]
        },
        {
          "output_type": "stream",
          "name": "stderr",
          "text": [
            "                                                              "
          ]
        },
        {
          "output_type": "stream",
          "name": "stdout",
          "text": [
            "\n",
            "Epoch 10/10, Loss: 0.0065, Accuracy: 99.8170%\n",
            "Training finished!\n"
          ]
        },
        {
          "output_type": "stream",
          "name": "stderr",
          "text": [
            "\r"
          ]
        }
      ]
    },
    {
      "cell_type": "code",
      "source": [
        "# Convert padded data to PyTorch DataLoader\n",
        "test_data = TensorDataset(test_sentences_padded, test_labels_padded)\n",
        "test_loader = DataLoader(test_data, batch_size=64, shuffle=True)\n",
        "\n",
        "model.eval()\n",
        "with torch.no_grad():\n",
        "    test_loss = 0\n",
        "    total = 0\n",
        "    correct = 0\n",
        "    preds = []\n",
        "    trues = []\n",
        "    for batch_sentences, batch_labels in tqdm(test_loader, desc=f'Testing...', leave=False):\n",
        "        batch_sentences = batch_sentences.to(device)\n",
        "        batch_labels = batch_labels.to(device)\n",
        "        logits = model(batch_sentences)\n",
        "        loss = criterion(logits.view(-1, output_dim), batch_labels.view(-1))\n",
        "\n",
        "        top_class = torch.argmax(logits, dim=-1)\n",
        "        # Find accuracy\n",
        "        total += top_class.flatten().size(0)\n",
        "        correct += (top_class.flatten() == batch_labels.flatten()).sum().item()\n",
        "        epoch_loss += loss.item()\n",
        "        for i in top_class.flatten().cpu().detach().numpy():\n",
        "            preds.append(i)\n",
        "        for i in batch_labels.flatten().cpu().detach().numpy():\n",
        "            trues.append(i)\n",
        "\n",
        "    print(f'\\nTest Loss: {epoch_loss / len(test_loader):.4f}, Test Accuracy: {(100 * correct / total):.4f}%')\n",
        "    preds = np.array(preds)\n",
        "    trues = np.array(trues)\n",
        "\n",
        "print('Testing finished!')"
      ],
      "metadata": {
        "colab": {
          "base_uri": "https://localhost:8080/"
        },
        "id": "7_dkKJBIzRir",
        "outputId": "d8f6306e-fabb-4c0a-b957-315a4805b0a6"
      },
      "execution_count": 15,
      "outputs": [
        {
          "output_type": "stream",
          "name": "stderr",
          "text": []
        },
        {
          "output_type": "stream",
          "name": "stdout",
          "text": [
            "\n",
            "Test Loss: 0.0418, Test Accuracy: 99.5971%\n",
            "Testing finished!\n"
          ]
        }
      ]
    },
    {
      "cell_type": "code",
      "source": [
        "ac_sc = accuracy_score(trues, preds)\n",
        "\n",
        "bac_sc = balanced_accuracy_score(trues, preds)\n",
        "\n",
        "f1_sc_micro = f1_score(trues, preds, average='micro')\n",
        "f1_sc_macro = f1_score(trues, preds, average='macro')\n",
        "f1_sc_weighted = f1_score(trues, preds, average='weighted')\n",
        "\n",
        "pr_sc_micro = precision_score(trues, preds, average='micro')\n",
        "pr_sc_macro = precision_score(trues, preds, average='macro')\n",
        "pr_sc_weighted = precision_score(trues, preds, average='weighted')\n",
        "\n",
        "re_sc_micro = recall_score(trues, preds, average='micro')\n",
        "re_sc_macro = recall_score(trues, preds, average='macro')\n",
        "re_sc_weighted = recall_score(trues, preds, average='weighted')\n"
      ],
      "metadata": {
        "id": "DKOVjdU03W_v"
      },
      "execution_count": 16,
      "outputs": []
    },
    {
      "cell_type": "code",
      "source": [
        "print(f\"Accuracy = {ac_sc:.5f}\\n\")\n",
        "\n",
        "print(f\"Balanced Accuracy = {bac_sc:.5f}\\n\")\n",
        "\n",
        "print(f\"F1 Score Macro = {f1_sc_macro:.5f}\")\n",
        "print(f\"F1 Score Micro = {f1_sc_micro:.5f}\")\n",
        "print(f\"F1 Score Weighted = {f1_sc_weighted:.5f}\\n\")\n",
        "\n",
        "print(f\"Precision Macro = {pr_sc_macro:.5f}\")\n",
        "print(f\"Precision Micro = {pr_sc_micro:.5f}\")\n",
        "print(f\"Precision Weighted = {pr_sc_weighted:.5f}\\n\")\n",
        "\n",
        "print(f\"Recall Macro = {re_sc_macro:.5f}\")\n",
        "print(f\"Recall Micro = {re_sc_micro:.5f}\")\n",
        "print(f\"Recall Weighted = {re_sc_weighted:.5f}\\n\")"
      ],
      "metadata": {
        "colab": {
          "base_uri": "https://localhost:8080/"
        },
        "id": "bsEL89kh3g2N",
        "outputId": "15d8e6a1-45eb-4651-f5a9-31c78ddf170f"
      },
      "execution_count": 17,
      "outputs": [
        {
          "output_type": "stream",
          "name": "stdout",
          "text": [
            "Accuracy = 0.99597\n",
            "\n",
            "Balanced Accuracy = 0.82213\n",
            "\n",
            "F1 Score Macro = 0.82079\n",
            "F1 Score Micro = 0.99597\n",
            "F1 Score Weighted = 0.99597\n",
            "\n",
            "Precision Macro = 0.82006\n",
            "Precision Micro = 0.99597\n",
            "Precision Weighted = 0.99598\n",
            "\n",
            "Recall Macro = 0.82213\n",
            "Recall Micro = 0.99597\n",
            "Recall Weighted = 0.99597\n",
            "\n"
          ]
        }
      ]
    },
    {
      "cell_type": "code",
      "source": [
        "# Instantiate the model\n",
        "model = NERModel(input_dim, hidden_dim, output_dim).to(device)\n",
        "\n",
        "# Define loss function and optimizer\n",
        "criterion = nn.CrossEntropyLoss()\n",
        "optimizer = optim.Adam(model.parameters(), lr=1e-3)\n",
        "\n",
        "\n",
        "# Convert padded data to PyTorch DataLoader\n",
        "train_data = TensorDataset(train_sentences_padded, train_labels_padded)\n",
        "train_loader = DataLoader(train_data, batch_size=64, shuffle=True)\n",
        "\n",
        "# Training loop\n",
        "epochs = 10\n",
        "for epoch in range(epochs):\n",
        "    model.train()\n",
        "    epoch_loss = 0\n",
        "    total = 0\n",
        "    correct = 0\n",
        "    for batch_sentences, batch_labels in tqdm(train_loader, desc=f'Epoch {epoch + 1}/{epochs}', leave=False):\n",
        "        optimizer.zero_grad()\n",
        "        batch_sentences = batch_sentences.to(device)\n",
        "        batch_labels = batch_labels.to(device)\n",
        "        logits = model(batch_sentences)\n",
        "        loss = criterion(logits.view(-1, output_dim), batch_labels.view(-1))\n",
        "        loss.backward()\n",
        "        optimizer.step()\n",
        "\n",
        "        top_class = torch.argmax(logits, dim=-1)\n",
        "        # Find accuracy\n",
        "        total += top_class.flatten().size(0)\n",
        "        correct += (top_class.flatten() == batch_labels.flatten()).sum().item()\n",
        "        epoch_loss += loss.item()\n",
        "\n",
        "    print(f'\\nEpoch {epoch + 1}/{epochs}, Loss: {epoch_loss / len(train_loader):.4f}, Accuracy: {(100 * correct / total):.4f}%')\n",
        "\n",
        "print('Training finished!')\n"
      ],
      "metadata": {
        "id": "VOoGN8z55969",
        "colab": {
          "base_uri": "https://localhost:8080/"
        },
        "outputId": "80febdda-2ce7-4880-90dc-7ab51e1fcf7f"
      },
      "execution_count": 18,
      "outputs": [
        {
          "output_type": "stream",
          "name": "stderr",
          "text": []
        },
        {
          "output_type": "stream",
          "name": "stdout",
          "text": [
            "\n",
            "Epoch 1/10, Loss: 0.3152, Accuracy: 94.9127%\n"
          ]
        },
        {
          "output_type": "stream",
          "name": "stderr",
          "text": []
        },
        {
          "output_type": "stream",
          "name": "stdout",
          "text": [
            "\n",
            "Epoch 2/10, Loss: 0.0668, Accuracy: 97.8581%\n"
          ]
        },
        {
          "output_type": "stream",
          "name": "stderr",
          "text": []
        },
        {
          "output_type": "stream",
          "name": "stdout",
          "text": [
            "\n",
            "Epoch 3/10, Loss: 0.0506, Accuracy: 98.3534%\n"
          ]
        },
        {
          "output_type": "stream",
          "name": "stderr",
          "text": []
        },
        {
          "output_type": "stream",
          "name": "stdout",
          "text": [
            "\n",
            "Epoch 4/10, Loss: 0.0411, Accuracy: 98.6218%\n"
          ]
        },
        {
          "output_type": "stream",
          "name": "stderr",
          "text": []
        },
        {
          "output_type": "stream",
          "name": "stdout",
          "text": [
            "\n",
            "Epoch 5/10, Loss: 0.0358, Accuracy: 98.7458%\n"
          ]
        },
        {
          "output_type": "stream",
          "name": "stderr",
          "text": []
        },
        {
          "output_type": "stream",
          "name": "stdout",
          "text": [
            "\n",
            "Epoch 6/10, Loss: 0.0330, Accuracy: 98.8187%\n"
          ]
        },
        {
          "output_type": "stream",
          "name": "stderr",
          "text": []
        },
        {
          "output_type": "stream",
          "name": "stdout",
          "text": [
            "\n",
            "Epoch 7/10, Loss: 0.0311, Accuracy: 98.8667%\n"
          ]
        },
        {
          "output_type": "stream",
          "name": "stderr",
          "text": []
        },
        {
          "output_type": "stream",
          "name": "stdout",
          "text": [
            "\n",
            "Epoch 8/10, Loss: 0.0294, Accuracy: 98.9060%\n"
          ]
        },
        {
          "output_type": "stream",
          "name": "stderr",
          "text": []
        },
        {
          "output_type": "stream",
          "name": "stdout",
          "text": [
            "\n",
            "Epoch 9/10, Loss: 0.0282, Accuracy: 98.9278%\n"
          ]
        },
        {
          "output_type": "stream",
          "name": "stderr",
          "text": [
            "                                                              "
          ]
        },
        {
          "output_type": "stream",
          "name": "stdout",
          "text": [
            "\n",
            "Epoch 10/10, Loss: 0.0271, Accuracy: 98.9592%\n",
            "Training finished!\n"
          ]
        },
        {
          "output_type": "stream",
          "name": "stderr",
          "text": [
            "\r"
          ]
        }
      ]
    },
    {
      "cell_type": "code",
      "source": [
        "# Convert padded data to PyTorch DataLoader\n",
        "test_data = TensorDataset(test_sentences_padded, test_labels_padded)\n",
        "test_loader = DataLoader(test_data, batch_size=64, shuffle=True)\n",
        "\n",
        "model.eval()\n",
        "with torch.no_grad():\n",
        "    test_loss = 0\n",
        "    total = 0\n",
        "    correct = 0\n",
        "    preds = []\n",
        "    trues = []\n",
        "    for batch_sentences, batch_labels in tqdm(test_loader, desc=f'Testing...', leave=False):\n",
        "        batch_sentences = batch_sentences.to(device)\n",
        "        batch_labels = batch_labels.to(device)\n",
        "        logits = model(batch_sentences)\n",
        "        loss = criterion(logits.view(-1, output_dim), batch_labels.view(-1))\n",
        "\n",
        "        top_class = torch.argmax(logits, dim=-1)\n",
        "        # Find accuracy\n",
        "        total += top_class.flatten().size(0)\n",
        "        correct += (top_class.flatten() == batch_labels.flatten()).sum().item()\n",
        "        epoch_loss += loss.item()\n",
        "        for i in top_class.flatten().cpu().detach().numpy():\n",
        "            preds.append(i)\n",
        "        for i in batch_labels.flatten().cpu().detach().numpy():\n",
        "            trues.append(i)\n",
        "\n",
        "    print(f'\\nTest Loss: {epoch_loss / len(test_loader):.4f}, Test Accuracy: {(100 * correct / total):.4f}%')\n",
        "    preds = np.array(preds)\n",
        "    trues = np.array(trues)\n",
        "\n",
        "print('Testing finished!')"
      ],
      "metadata": {
        "colab": {
          "base_uri": "https://localhost:8080/"
        },
        "id": "SYNFMMXCM8S3",
        "outputId": "268f5ffb-1924-4d40-f009-fbd702227063"
      },
      "execution_count": 19,
      "outputs": [
        {
          "output_type": "stream",
          "name": "stderr",
          "text": [
            "                                                           "
          ]
        },
        {
          "output_type": "stream",
          "name": "stdout",
          "text": [
            "\n",
            "Test Loss: 0.1412, Test Accuracy: 98.8362%\n",
            "Testing finished!\n"
          ]
        },
        {
          "output_type": "stream",
          "name": "stderr",
          "text": [
            "\r"
          ]
        }
      ]
    },
    {
      "cell_type": "code",
      "source": [
        "ac_sc = accuracy_score(trues, preds)\n",
        "\n",
        "bac_sc = balanced_accuracy_score(trues, preds)\n",
        "\n",
        "f1_sc_micro = f1_score(trues, preds, average='micro')\n",
        "f1_sc_macro = f1_score(trues, preds, average='macro')\n",
        "f1_sc_weighted = f1_score(trues, preds, average='weighted')\n",
        "\n",
        "pr_sc_micro = precision_score(trues, preds, average='micro')\n",
        "pr_sc_macro = precision_score(trues, preds, average='macro')\n",
        "pr_sc_weighted = precision_score(trues, preds, average='weighted')\n",
        "\n",
        "re_sc_micro = recall_score(trues, preds, average='micro')\n",
        "re_sc_macro = recall_score(trues, preds, average='macro')\n",
        "re_sc_weighted = recall_score(trues, preds, average='weighted')\n"
      ],
      "metadata": {
        "id": "VmmYY72bM_lZ"
      },
      "execution_count": 20,
      "outputs": []
    },
    {
      "cell_type": "code",
      "source": [
        "print(f\"Accuracy = {ac_sc:.5f}\\n\")\n",
        "\n",
        "print(f\"Balanced Accuracy = {bac_sc:.5f}\\n\")\n",
        "\n",
        "print(f\"F1 Score Macro = {f1_sc_macro:.5f}\")\n",
        "print(f\"F1 Score Micro = {f1_sc_micro:.5f}\")\n",
        "print(f\"F1 Score Weighted = {f1_sc_weighted:.5f}\\n\")\n",
        "\n",
        "print(f\"Precision Macro = {pr_sc_macro:.5f}\")\n",
        "print(f\"Precision Micro = {pr_sc_micro:.5f}\")\n",
        "print(f\"Precision Weighted = {pr_sc_weighted:.5f}\\n\")\n",
        "\n",
        "print(f\"Recall Macro = {re_sc_macro:.5f}\")\n",
        "print(f\"Recall Micro = {re_sc_micro:.5f}\")\n",
        "print(f\"Recall Weighted = {re_sc_weighted:.5f}\\n\")"
      ],
      "metadata": {
        "colab": {
          "base_uri": "https://localhost:8080/"
        },
        "id": "EdEVzltJNBAa",
        "outputId": "7234387f-ce9d-43a5-c749-7b90e38f21e1"
      },
      "execution_count": 21,
      "outputs": [
        {
          "output_type": "stream",
          "name": "stdout",
          "text": [
            "Accuracy = 0.98836\n",
            "\n",
            "Balanced Accuracy = 0.73907\n",
            "\n",
            "F1 Score Macro = 0.62527\n",
            "F1 Score Micro = 0.98836\n",
            "F1 Score Weighted = 0.98924\n",
            "\n",
            "Precision Macro = 0.58051\n",
            "Precision Micro = 0.98836\n",
            "Precision Weighted = 0.99135\n",
            "\n",
            "Recall Macro = 0.73907\n",
            "Recall Micro = 0.98836\n",
            "Recall Weighted = 0.98836\n",
            "\n"
          ]
        }
      ]
    }
  ]
}