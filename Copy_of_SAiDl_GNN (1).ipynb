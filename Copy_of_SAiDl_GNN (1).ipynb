{
  "nbformat": 4,
  "nbformat_minor": 0,
  "metadata": {
    "colab": {
      "provenance": []
    },
    "kernelspec": {
      "name": "python3",
      "display_name": "Python 3"
    },
    "language_info": {
      "name": "python"
    }
  },
  "cells": [
    {
      "cell_type": "code",
      "source": [
        "!pip install torch-geometric -q\n",
        "!pip install rdkit -q"
      ],
      "metadata": {
        "colab": {
          "base_uri": "https://localhost:8080/"
        },
        "id": "nowQxZQ_elMu",
        "outputId": "ef8a0621-b9b7-411b-e2d0-a22cd913acb8"
      },
      "execution_count": 1,
      "outputs": [
        {
          "output_type": "stream",
          "name": "stdout",
          "text": [
            "\u001b[2K     \u001b[90m━━━━━━━━━━━━━━━━━━━━━━━━━━━━━━━━━━━━━━━━\u001b[0m \u001b[32m1.1/1.1 MB\u001b[0m \u001b[31m12.1 MB/s\u001b[0m eta \u001b[36m0:00:00\u001b[0m\n",
            "\u001b[2K     \u001b[90m━━━━━━━━━━━━━━━━━━━━━━━━━━━━━━━━━━━━━━━━\u001b[0m \u001b[32m34.4/34.4 MB\u001b[0m \u001b[31m14.0 MB/s\u001b[0m eta \u001b[36m0:00:00\u001b[0m\n",
            "\u001b[?25h"
          ]
        }
      ]
    },
    {
      "cell_type": "markdown",
      "source": [
        "# Creating a GAT Model"
      ],
      "metadata": {
        "id": "3AA-_e0vjTX8"
      }
    },
    {
      "cell_type": "markdown",
      "source": [
        "Importing the required libraries"
      ],
      "metadata": {
        "id": "elDLW_fPjVvF"
      }
    },
    {
      "cell_type": "code",
      "execution_count": 4,
      "metadata": {
        "id": "R2waTEGHCtDx"
      },
      "outputs": [],
      "source": [
        "import torch\n",
        "import torch.nn as nn\n",
        "import torch.nn.functional as F\n",
        "\n",
        "import torch_geometric\n",
        "from torch_geometric.datasets import MoleculeNet, QM9, PPI\n",
        "from torch_geometric.data import DataLoader\n",
        "from torch_geometric.nn import MessagePassing\n",
        "from torch_geometric.utils import add_self_loops\n",
        "\n",
        "from sklearn.metrics import accuracy_score, f1_score, precision_score, recall_score, roc_auc_score\n",
        "\n",
        "device = torch.device(\"cuda\" if torch.cuda.is_available() else \"cpu\")"
      ]
    },
    {
      "cell_type": "code",
      "source": [
        "dataset = PPI(root=\"./\")\n",
        "\n",
        "print(f'Dataset: {dataset}:')\n",
        "print('======================')\n",
        "print(\"Dataset type: \", type(dataset))\n",
        "print(f'Number of graphs: {len(dataset)}')\n",
        "print(\"Dataset sample: \", dataset[0])\n",
        "print(\"Sample  nodes: \", dataset[0].num_nodes)\n",
        "print(\"Sample  edges: \", dataset[0].num_edges)\n",
        "print(\"Sample  edge_index: \", dataset[0].edge_index.shape)\n",
        "print(\"Sample  X: \", dataset[0].x.shape)\n",
        "print(\"Sample  y: \", dataset[0].y.shape)"
      ],
      "metadata": {
        "colab": {
          "base_uri": "https://localhost:8080/"
        },
        "id": "iMqQamp2I8O_",
        "outputId": "91bf1563-7d14-4b26-8770-505ec364c279"
      },
      "execution_count": 23,
      "outputs": [
        {
          "output_type": "stream",
          "name": "stdout",
          "text": [
            "Dataset: PPI(20):\n",
            "======================\n",
            "Dataset type:  <class 'torch_geometric.datasets.ppi.PPI'>\n",
            "Number of graphs: 20\n",
            "Dataset sample:  Data(x=[1767, 50], edge_index=[2, 32318], y=[1767, 121])\n",
            "Sample  nodes:  1767\n",
            "Sample  edges:  32318\n",
            "Sample  edge_index:  torch.Size([2, 32318])\n",
            "Sample  X:  torch.Size([1767, 50])\n",
            "Sample  y:  torch.Size([1767, 121])\n"
          ]
        }
      ]
    },
    {
      "cell_type": "markdown",
      "source": [
        "Observing a sample of the data"
      ],
      "metadata": {
        "id": "237finarjfCA"
      }
    },
    {
      "cell_type": "code",
      "source": [
        "sample = dataset[0]\n",
        "\n",
        "print(sample.num_features)\n",
        "print(sample.edge_index.shape)\n",
        "print(sample.x.shape)\n",
        "print(sample.y.shape)"
      ],
      "metadata": {
        "id": "n2kPKUulfSSt",
        "colab": {
          "base_uri": "https://localhost:8080/"
        },
        "outputId": "d5132ca4-e359-47d7-f684-e105982088a2"
      },
      "execution_count": 24,
      "outputs": [
        {
          "output_type": "stream",
          "name": "stdout",
          "text": [
            "50\n",
            "torch.Size([2, 32318])\n",
            "torch.Size([1767, 50])\n",
            "torch.Size([1767, 121])\n"
          ]
        }
      ]
    },
    {
      "cell_type": "markdown",
      "source": [
        "Creating a helper function to turn edge indices to adjacency matrices"
      ],
      "metadata": {
        "id": "QAE8W6-_jjWx"
      }
    },
    {
      "cell_type": "code",
      "source": [
        "from torch_geometric.utils import to_networkx\n",
        "\n",
        "def get_adjacency_matrix(data):\n",
        "    # Get the edge index from the data object\n",
        "    edge_index = data.edge_index\n",
        "\n",
        "    # Convert the edge index to a NetworkX graph\n",
        "    G = to_networkx(data)\n",
        "\n",
        "    # Create an empty adjacency matrix with appropriate size\n",
        "    num_nodes = G.number_of_nodes()\n",
        "    adj_matrix = torch.zeros(num_nodes, num_nodes)\n",
        "\n",
        "    # Fill the adjacency matrix based on edges\n",
        "    for source, target in G.edges():\n",
        "        adj_matrix[source, target] = 1\n",
        "\n",
        "    return adj_matrix\n",
        "\n",
        "\n"
      ],
      "metadata": {
        "id": "sfisI0SFo4e9"
      },
      "execution_count": 25,
      "outputs": []
    },
    {
      "cell_type": "markdown",
      "source": [
        "# GAT"
      ],
      "metadata": {
        "id": "ymFkTpBSFpgt"
      }
    },
    {
      "cell_type": "code",
      "source": [
        "class GATLayer(MessagePassing):\n",
        "    def __init__(self, in_features, out_features, dropout, alpha, concat=True):\n",
        "        super(GATLayer, self).__init__()\n",
        "        self.dropout       = dropout        # drop prob = 0.6\n",
        "        self.in_features   = in_features    #\n",
        "        self.out_features  = out_features   #\n",
        "        self.alpha         = alpha          # LeakyReLU with negative input slope, alpha = 0.2\n",
        "        self.concat        = concat         # conacat = True for all layers except the output layer.\n",
        "\n",
        "\n",
        "        # Xavier Initialization of Weights\n",
        "        # Alternatively use weights_init to apply weights of choice\n",
        "        self.W = nn.Parameter(torch.zeros(size=(in_features, out_features)))\n",
        "        nn.init.xavier_uniform_(self.W.data, gain=1.414)\n",
        "\n",
        "        self.a = nn.Parameter(torch.zeros(size=(2*out_features, 1)))\n",
        "        nn.init.xavier_uniform_(self.a.data, gain=1.414)\n",
        "\n",
        "        # LeakyReLU\n",
        "        self.leakyrelu = nn.LeakyReLU(self.alpha)\n",
        "\n",
        "    def forward(self, input, adj):\n",
        "        # Linear Transformation\n",
        "        h = torch.mm(input, self.W) # matrix multiplication\n",
        "        N = h.size()[0]\n",
        "\n",
        "        # Attention Mechanism\n",
        "        a_input = torch.cat([h.repeat(1, N).view(N * N, -1), h.repeat(N, 1)], dim=1).view(N, -1, 2 * self.out_features)\n",
        "        e = self.leakyrelu(torch.matmul(a_input, self.a).squeeze(2))\n",
        "\n",
        "        # Masked Attention\n",
        "        zero_vec  = -9e15*torch.ones_like(e)\n",
        "        attention = torch.where(adj > 0, e, zero_vec)\n",
        "\n",
        "        attention = F.softmax(attention, dim=1)\n",
        "        attention = F.dropout(attention, self.dropout, training=self.training)\n",
        "        h_prime   = torch.matmul(attention, h)\n",
        "\n",
        "        if self.concat:\n",
        "            return F.elu(h_prime)\n",
        "        else:\n",
        "            return h_prime"
      ],
      "metadata": {
        "id": "w-8kQOd0J6x0"
      },
      "execution_count": 58,
      "outputs": []
    },
    {
      "cell_type": "code",
      "source": [
        "x = sample.x.float()\n",
        "y = sample.y\n",
        "edge_index = sample.edge_index\n",
        "\n",
        "conv = GATLayer(in_features=dataset.num_features, out_features=dataset.num_classes, dropout=0.2, alpha=0.2, concat=True)\n",
        "out = conv(x, get_adjacency_matrix(dataset[0]))\n",
        "\n",
        "print(out.shape)"
      ],
      "metadata": {
        "colab": {
          "base_uri": "https://localhost:8080/"
        },
        "id": "Z2O1MB82J6vf",
        "outputId": "1bbdb3ef-0b06-437a-9450-58d9e8a401f9"
      },
      "execution_count": 59,
      "outputs": [
        {
          "output_type": "stream",
          "name": "stdout",
          "text": [
            "torch.Size([1767, 121])\n"
          ]
        }
      ]
    },
    {
      "cell_type": "code",
      "source": [],
      "metadata": {
        "id": "lx_QxkcEPF2n"
      },
      "execution_count": null,
      "outputs": []
    },
    {
      "cell_type": "markdown",
      "source": [
        "# GCN Model"
      ],
      "metadata": {
        "id": "RA5mlR7Pg1wh"
      }
    },
    {
      "cell_type": "code",
      "source": [
        "from torch_geometric.utils import add_self_loops, degree\n",
        "\n",
        "class GCNConv(MessagePassing):\n",
        "    def __init__(self, in_channels, out_channels):\n",
        "        super().__init__(aggr='add')  # \"Add\" aggregation (Step 5).\n",
        "        self.lin = nn.Linear(in_channels, out_channels, bias=False)\n",
        "        self.bias = nn.Parameter(torch.empty(out_channels))\n",
        "\n",
        "        self.reset_parameters()\n",
        "\n",
        "    def reset_parameters(self):\n",
        "        self.lin.reset_parameters()\n",
        "        self.bias.data.zero_()\n",
        "\n",
        "    def forward(self, x, edge_index):\n",
        "        edge_index, _ = add_self_loops(edge_index, num_nodes=x.size(0))\n",
        "        x = self.lin(x)\n",
        "        row, col = edge_index\n",
        "        deg = degree(col, x.size(0), dtype=x.dtype)\n",
        "        deg_inv_sqrt = deg.pow(-0.5)\n",
        "        deg_inv_sqrt[deg_inv_sqrt == float('inf')] = 0\n",
        "        norm = deg_inv_sqrt[row] * deg_inv_sqrt[col]\n",
        "        out = self.propagate(edge_index, x=x, norm=norm)\n",
        "        out = out + self.bias\n",
        "\n",
        "        return out\n",
        "\n",
        "    def message(self, x_j, norm):\n",
        "        return norm.view(-1, 1) * x_j"
      ],
      "metadata": {
        "id": "1IfZFtkkfJ3_"
      },
      "execution_count": 26,
      "outputs": []
    },
    {
      "cell_type": "code",
      "source": [
        "x = sample.x.float()\n",
        "y = sample.y\n",
        "edge_index = sample.edge_index\n",
        "\n",
        "conv = GCNConv(in_channels=dataset.num_features, out_channels=64)\n",
        "out = conv(x, edge_index)\n",
        "\n",
        "print(out.shape)"
      ],
      "metadata": {
        "colab": {
          "base_uri": "https://localhost:8080/"
        },
        "id": "zynuIZbUfJ1o",
        "outputId": "df591009-54cf-4973-b266-451714c0d633"
      },
      "execution_count": 19,
      "outputs": [
        {
          "output_type": "stream",
          "name": "stdout",
          "text": [
            "torch.Size([19, 64])\n"
          ]
        }
      ]
    },
    {
      "cell_type": "code",
      "source": [
        "class GCNModel(torch.nn.Module):\n",
        "    def __init__(self, in_channels, out_channels):\n",
        "        super(GCNModel, self).__init__()\n",
        "        self.conv1 = GCNConv(in_channels, 64)\n",
        "        self.conv2 = GCNConv(64, 128)\n",
        "        self.fc = nn.Linear(128, out_channels)\n",
        "\n",
        "    def forward(self, x, edge_index):\n",
        "        x = self.conv1(x, edge_index)\n",
        "        x = F.relu(x)\n",
        "        x = self.conv2(x, edge_index)\n",
        "        x = F.relu(x)\n",
        "        x = self.fc(x)\n",
        "\n",
        "        return F.log_softmax(x, dim=1)"
      ],
      "metadata": {
        "id": "_ss49qTdfSRP"
      },
      "execution_count": 32,
      "outputs": []
    },
    {
      "cell_type": "code",
      "source": [
        "# testing model\n",
        "\n",
        "x = sample.x.float()\n",
        "y = sample.y\n",
        "edge_index = sample.edge_index\n",
        "\n",
        "model = GCNModel(in_channels=dataset.num_features, out_channels=dataset.num_classes)\n",
        "output = model(x, edge_index)\n",
        "\n",
        "print(output.shape)"
      ],
      "metadata": {
        "colab": {
          "base_uri": "https://localhost:8080/"
        },
        "id": "ZnIpQ6Z7fxG-",
        "outputId": "a7d75639-3ad8-4d40-ccb7-7165c996b7ea"
      },
      "execution_count": 28,
      "outputs": [
        {
          "output_type": "stream",
          "name": "stdout",
          "text": [
            "torch.Size([1, 1767, 121])\n"
          ]
        }
      ]
    },
    {
      "cell_type": "code",
      "source": [
        "epochs = 10\n",
        "lr = 1e-3\n",
        "\n",
        "optimizer = torch.optim.Adam(model.parameters(), lr=lr)\n",
        "criterion = torch.nn.MSELoss()\n",
        "\n",
        "model = model.to(device)\n",
        "criterion = criterion.to(device)\n",
        "\n",
        "for epoch in range(epochs):\n",
        "    for data in dataset:\n",
        "        data = data.to(device)\n",
        "        x, edge_index, y = data.x.float(), data.edge_index, data.y\n",
        "        model.train()\n",
        "        optimizer.zero_grad()\n",
        "        out = model(x, edge_index)\n",
        "        loss = criterion(out, y)\n",
        "        loss.backward()\n",
        "        optimizer.step()\n",
        "    print(f'Epoch: {epoch+1:03d}, Loss: {loss:.4f}')"
      ],
      "metadata": {
        "colab": {
          "base_uri": "https://localhost:8080/"
        },
        "id": "bvivy8xNfztO",
        "outputId": "4fdaf514-9659-491a-bfed-522b4ef92ea6"
      },
      "execution_count": 34,
      "outputs": [
        {
          "output_type": "stream",
          "name": "stdout",
          "text": [
            "Epoch: 001, Loss: 69.3032\n",
            "Epoch: 002, Loss: 69.3031\n",
            "Epoch: 003, Loss: 69.3030\n",
            "Epoch: 004, Loss: 69.3028\n",
            "Epoch: 005, Loss: 69.3027\n",
            "Epoch: 006, Loss: 69.3026\n",
            "Epoch: 007, Loss: 69.3025\n",
            "Epoch: 008, Loss: 69.3024\n",
            "Epoch: 009, Loss: 69.3023\n",
            "Epoch: 010, Loss: 69.3023\n"
          ]
        }
      ]
    },
    {
      "cell_type": "code",
      "source": [],
      "metadata": {
        "id": "vhd1ebI8N8t9"
      },
      "execution_count": null,
      "outputs": []
    }
  ]
}