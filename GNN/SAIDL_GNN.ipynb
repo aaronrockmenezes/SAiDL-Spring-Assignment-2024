{
    "cells": [
        {
            "cell_type": "code",
            "execution_count": 42,
            "metadata": {
                "id": "nowQxZQ_elMu"
            },
            "outputs": [],
            "source": [
                "!pip install torch-geometric -q\n",
                "!pip install rdkit -q"
            ]
        },
        {
            "cell_type": "markdown",
            "metadata": {
                "id": "3AA-_e0vjTX8"
            },
            "source": [
                "# Creating a GAT Model"
            ]
        },
        {
            "cell_type": "markdown",
            "metadata": {
                "id": "elDLW_fPjVvF"
            },
            "source": [
                "Importing required packages"
            ]
        },
        {
            "cell_type": "code",
            "execution_count": 43,
            "metadata": {
                "id": "R2waTEGHCtDx"
            },
            "outputs": [],
            "source": [
                "import torch\n",
                "import torch.nn as nn\n",
                "import torch.nn.functional as F\n",
                "\n",
                "from torch_geometric.datasets import PPI\n",
                "from torch_geometric.nn import MessagePassing\n",
                "from torch_geometric.utils import add_self_loops, softmax, degree\n",
                "\n",
                "device = torch.device(\"cuda\" if torch.cuda.is_available() else \"cpu\")"
            ]
        },
        {
            "cell_type": "markdown",
            "metadata": {},
            "source": [
                "# Loading and understanding the dataset"
            ]
        },
        {
            "cell_type": "markdown",
            "metadata": {},
            "source": [
                "We use the PPI Dataset"
            ]
        },
        {
            "cell_type": "code",
            "execution_count": 44,
            "metadata": {
                "colab": {
                    "base_uri": "https://localhost:8080/"
                },
                "id": "iMqQamp2I8O_",
                "outputId": "23181ec8-2077-497a-919a-973db8d318e7"
            },
            "outputs": [
                {
                    "name": "stdout",
                    "output_type": "stream",
                    "text": [
                        "Dataset: PPI(20):\n",
                        "======================\n",
                        "Dataset type:  <class 'torch_geometric.datasets.ppi.PPI'>\n",
                        "Number of graphs: 20\n",
                        "Number of classes:  121\n",
                        "Dataset sample:  Data(x=[1767, 50], edge_index=[2, 32318], y=[1767, 121])\n",
                        "Sample  nodes:  1767\n",
                        "Sample  edges:  32318\n",
                        "Sample  edge_index:  torch.Size([2, 32318])\n",
                        "Sample  X:  torch.Size([1767, 50])\n",
                        "Sample  y:  torch.Size([1767, 121])\n"
                    ]
                }
            ],
            "source": [
                "dataset = PPI(root=\"./\", split=\"train\")\n",
                "testset = PPI(root=\"./\", split=\"test\")\n",
                "\n",
                "print(f'Dataset: {dataset}:')\n",
                "print('======================')\n",
                "print(\"Dataset type: \", type(dataset))\n",
                "print(f'Number of graphs: {len(dataset)}')\n",
                "print(\"Number of classes: \", dataset.num_classes)\n",
                "print(\"Dataset sample: \", dataset[0])\n",
                "print(\"Sample  nodes: \", dataset[0].num_nodes)\n",
                "print(\"Sample  edges: \", dataset[0].num_edges)\n",
                "print(\"Sample  edge_index: \", dataset[0].edge_index.shape)\n",
                "print(\"Sample  X: \", dataset[0].x.shape)\n",
                "print(\"Sample  y: \", dataset[0].y.shape)"
            ]
        },
        {
            "cell_type": "markdown",
            "metadata": {
                "id": "237finarjfCA"
            },
            "source": [
                "Observing a sample of the data"
            ]
        },
        {
            "cell_type": "code",
            "execution_count": 45,
            "metadata": {
                "colab": {
                    "base_uri": "https://localhost:8080/"
                },
                "id": "n2kPKUulfSSt",
                "outputId": "3c5652c8-a66f-4212-b98a-d1e7d7b571dc"
            },
            "outputs": [
                {
                    "name": "stdout",
                    "output_type": "stream",
                    "text": [
                        "50\n",
                        "torch.Size([2, 32318])\n",
                        "torch.Size([1767, 50])\n",
                        "torch.Size([1767, 121])\n"
                    ]
                }
            ],
            "source": [
                "sample = dataset[0]\n",
                "\n",
                "print(sample.num_features)\n",
                "print(sample.edge_index.shape)\n",
                "print(sample.x.shape)\n",
                "print(sample.y.shape)"
            ]
        },
        {
            "cell_type": "markdown",
            "metadata": {
                "id": "ymFkTpBSFpgt"
            },
            "source": [
                "# The GAT Model"
            ]
        },
        {
            "cell_type": "markdown",
            "metadata": {},
            "source": [
                "I've made a simple, single headed GAT model."
            ]
        },
        {
            "cell_type": "code",
            "execution_count": 46,
            "metadata": {
                "id": "5usN-SgffMW1"
            },
            "outputs": [],
            "source": [
                "class GATLayer(MessagePassing):\n",
                "  def __init__(self, in_channels, out_channels, dropout=0.2, alpha=0.2):\n",
                "    super().__init__(aggr=\"add\")\n",
                "\n",
                "    self.input_channels = in_channels\n",
                "    self.output_channels = out_channels\n",
                "    self.dropout = dropout\n",
                "    self.alpha = alpha\n",
                "\n",
                "    self.leakyrelu = nn.LeakyReLU(self.alpha)\n",
                "\n",
                "    # Xavier Initialization of Weights\n",
                "    self.W = nn.Linear(in_channels, out_channels)\n",
                "    self.att = nn.Linear(2 * out_channels, 1)\n",
                "    nn.init.xavier_uniform_(self.W.weight)\n",
                "    nn.init.xavier_uniform_(self.att.weight)\n",
                "\n",
                "  def forward(self, x, edge_index):\n",
                "    Wh = self.W(x)\n",
                "    out = self.propagate(edge_index, x=Wh)\n",
                "    return out\n",
                "\n",
                "  def message(self, edge_index_i, x_i, x_j, size_i):\n",
                "\n",
                "    # x_cat = Whu||Whv\n",
                "    x_cat = torch.cat([x_i, x_j], dim=-1)\n",
                "\n",
                "    # attention = aT.(Whu||Whv)\n",
                "    attention = self.att(x_cat)\n",
                "    attention = self.leakyrelu(attention)\n",
                "\n",
                "    # alpha = softmax(leakyReLU(aT.(Whu||Whv)))\n",
                "    alpha = softmax(attention, edge_index_i, num_nodes=size_i)\n",
                "\n",
                "    # Dropout for regularization\n",
                "    alpha = F.dropout(alpha, self.dropout)\n",
                "\n",
                "    # Final message passing\n",
                "    message = alpha * x_j\n",
                "    return message\n",
                "\n",
                "class GATModel(nn.Module):\n",
                "  def __init__(self,in_channels, hidden_channels=64, out_channels, alpha=0.2):\n",
                "      super().__init__()\n",
                "      self.alpha = alpha\n",
                "      self.gat1 = GATLayer(in_channels, hidden_channels, alpha=self.alpha)\n",
                "      self.gat2 = GATLayer(hidden_channels, hidden_channels, alpha=self.alpha)\n",
                "      self.fc = nn.Linear(hidden_channels, out_channels)\n",
                "\n",
                "  def forward(self,x,edge_index):\n",
                "      x = self.gat1(x,edge_index)\n",
                "      x = F.leaky_relu(x, self.alpha)\n",
                "      x = self.gat2(x,edge_index)\n",
                "      x = F.leaky_relu(x, self.alpha)\n",
                "      x = self.fc(x)\n",
                "      return x\n"
            ]
        },
        {
            "cell_type": "markdown",
            "metadata": {},
            "source": [
                "Helper function to get the trainable parameters in a model"
            ]
        },
        {
            "cell_type": "code",
            "execution_count": 47,
            "metadata": {
                "id": "KR0zLZt_qIia"
            },
            "outputs": [],
            "source": [
                "def print_trainable_params(model):\n",
                "  \"\"\"\n",
                "  Prints the trainable parameters of a PyTorch model.\n",
                "\n",
                "  Args:\n",
                "      model: The PyTorch model to inspect.\n",
                "  \"\"\"\n",
                "  for name, param in model.named_parameters():\n",
                "    if param.requires_grad:\n",
                "      print(f\"Trainable parameter: {name}, size: {param.size()}\")\n"
            ]
        },
        {
            "cell_type": "markdown",
            "metadata": {},
            "source": [
                "Test the model's forward method and viewing trainable parameters"
            ]
        },
        {
            "cell_type": "code",
            "execution_count": 48,
            "metadata": {
                "colab": {
                    "base_uri": "https://localhost:8080/"
                },
                "id": "A4jZkAllin-Y",
                "outputId": "a197a1d2-6cba-4efb-b01c-fa8072272703"
            },
            "outputs": [
                {
                    "name": "stdout",
                    "output_type": "stream",
                    "text": [
                        "Trainable parameter: gat1.W.weight, size: torch.Size([64, 50])\n",
                        "Trainable parameter: gat1.W.bias, size: torch.Size([64])\n",
                        "Trainable parameter: gat1.att.weight, size: torch.Size([1, 128])\n",
                        "Trainable parameter: gat1.att.bias, size: torch.Size([1])\n",
                        "Trainable parameter: gat2.W.weight, size: torch.Size([64, 64])\n",
                        "Trainable parameter: gat2.W.bias, size: torch.Size([64])\n",
                        "Trainable parameter: gat2.att.weight, size: torch.Size([1, 128])\n",
                        "Trainable parameter: gat2.att.bias, size: torch.Size([1])\n",
                        "Trainable parameter: fc.weight, size: torch.Size([121, 64])\n",
                        "Trainable parameter: fc.bias, size: torch.Size([121])\n",
                        "\n",
                        "Output shape:  torch.Size([1767, 121])\n"
                    ]
                }
            ],
            "source": [
                "model= GATModel(in_channels=dataset.num_features, hidden_channels=64, out_channels=dataset.num_classes, alpha=0.2).to(device)\n",
                "print_trainable_params(model)\n",
                "\n",
                "sample = dataset[0]\n",
                "\n",
                "out = model(sample.x, sample.edge_index)\n",
                "print(\"\\nOutput shape: \", out.shape)\n"
            ]
        },
        {
            "cell_type": "markdown",
            "metadata": {},
            "source": [
                "### Training loop for the GAT Model"
            ]
        },
        {
            "cell_type": "code",
            "execution_count": 49,
            "metadata": {
                "colab": {
                    "base_uri": "https://localhost:8080/"
                },
                "id": "W5S49DuNqrBz",
                "outputId": "afae9cbd-11ed-4d61-8f16-c0a05345622e"
            },
            "outputs": [
                {
                    "name": "stdout",
                    "output_type": "stream",
                    "text": [
                        "Epoch: 1/10, Loss: 0.2833\n",
                        "Epoch: 2/10, Loss: 0.2115\n",
                        "Epoch: 3/10, Loss: 0.1957\n",
                        "Epoch: 4/10, Loss: 0.1921\n",
                        "Epoch: 5/10, Loss: 0.1908\n",
                        "Epoch: 6/10, Loss: 0.1896\n",
                        "Epoch: 7/10, Loss: 0.1882\n",
                        "Epoch: 8/10, Loss: 0.1868\n",
                        "Epoch: 9/10, Loss: 0.1856\n",
                        "Epoch: 10/10, Loss: 0.1845\n"
                    ]
                }
            ],
            "source": [
                "epochs = 10\n",
                "lr = 1e-3\n",
                "\n",
                "optimizer = torch.optim.Adam(model.parameters(), lr=lr)\n",
                "criterion = torch.nn.MSELoss()\n",
                "\n",
                "model = model.to(device)\n",
                "criterion = criterion.to(device)\n",
                "\n",
                "for epoch in range(epochs):\n",
                "    total_loss = 0\n",
                "    for data in dataset:\n",
                "        data = data.to(device)\n",
                "        x, edge_index, y = data.x.float(), data.edge_index, data.y\n",
                "\n",
                "        model.train()\n",
                "        optimizer.zero_grad()\n",
                "        out = model(x, edge_index)\n",
                "        loss = criterion(out, y)\n",
                "        loss.backward()\n",
                "        total_loss += loss.item()\n",
                "        optimizer.step()\n",
                "    print(f'Epoch: {epoch+1}/{epochs}, Loss: {total_loss/len(dataset):.4f}')"
            ]
        },
        {
            "cell_type": "markdown",
            "metadata": {},
            "source": [
                "### Testing loop for the GAT Model"
            ]
        },
        {
            "cell_type": "code",
            "execution_count": 50,
            "metadata": {
                "colab": {
                    "base_uri": "https://localhost:8080/"
                },
                "id": "mOP4g5FFrR2v",
                "outputId": "b1bb8408-2e7f-4ee5-c979-985d8a291eb7"
            },
            "outputs": [
                {
                    "name": "stdout",
                    "output_type": "stream",
                    "text": [
                        "Test Loss: 0.1787\n"
                    ]
                }
            ],
            "source": [
                "with torch.no_grad():\n",
                "    model.eval()\n",
                "    total_loss = 0\n",
                "    for data in testset:\n",
                "        data = data.to(device)\n",
                "        x, edge_index, y = data.x.float(), data.edge_index, data.y\n",
                "        pred = model(x, edge_index)\n",
                "        loss = criterion(pred, y)\n",
                "        total_loss += loss.item()\n",
                "\n",
                "print(f'Test Loss: {total_loss/len(testset):.4f}')"
            ]
        },
        {
            "cell_type": "markdown",
            "metadata": {
                "id": "RA5mlR7Pg1wh"
            },
            "source": [
                "# Bonus: The GCN Model"
            ]
        },
        {
            "cell_type": "code",
            "execution_count": 51,
            "metadata": {
                "id": "1IfZFtkkfJ3_"
            },
            "outputs": [],
            "source": [
                "class GCNConv(MessagePassing):\n",
                "    def __init__(self, in_channels, out_channels):\n",
                "        super().__init__(aggr='add')\n",
                "        self.lin = nn.Linear(in_channels, out_channels, bias=False)\n",
                "        self.bias = nn.Parameter(torch.empty(out_channels))\n",
                "\n",
                "        self.reset_parameters()\n",
                "\n",
                "    def reset_parameters(self):\n",
                "        self.lin.reset_parameters()\n",
                "        self.bias.data.zero_()\n",
                "\n",
                "    def forward(self, x, edge_index):\n",
                "        edge_index, _ = add_self_loops(edge_index, num_nodes=x.size(0))\n",
                "        x = self.lin(x)\n",
                "        row, col = edge_index\n",
                "        deg = degree(col, x.size(0), dtype=x.dtype)\n",
                "        deg_inv_sqrt = deg.pow(-0.5)\n",
                "        deg_inv_sqrt[deg_inv_sqrt == float('inf')] = 0\n",
                "        norm = deg_inv_sqrt[row] * deg_inv_sqrt[col]\n",
                "        out = self.propagate(edge_index, x=x, norm=norm)\n",
                "        out = out + self.bias\n",
                "\n",
                "        return out\n",
                "\n",
                "    def message(self, x_j, norm):\n",
                "        return norm.view(-1, 1) * x_j\n"
            ]
        },
        {
            "cell_type": "markdown",
            "metadata": {
                "id": "LERfcvdRZWNZ"
            },
            "source": [
                "Testing the layer's forward method and viewing trainable parameters"
            ]
        },
        {
            "cell_type": "code",
            "execution_count": 52,
            "metadata": {
                "colab": {
                    "base_uri": "https://localhost:8080/"
                },
                "id": "zynuIZbUfJ1o",
                "outputId": "df284192-5418-4ca2-98a1-bbabe5e0456d"
            },
            "outputs": [
                {
                    "name": "stdout",
                    "output_type": "stream",
                    "text": [
                        "Trainable parameter: bias, size: torch.Size([121])\n",
                        "Trainable parameter: lin.weight, size: torch.Size([121, 50])\n",
                        "\n",
                        "Output shape:  torch.Size([1767, 121])\n"
                    ]
                }
            ],
            "source": [
                "x = sample.x.float()\n",
                "y = sample.y\n",
                "edge_index = sample.edge_index\n",
                "\n",
                "gcn = GCNConv(in_channels=dataset.num_features, out_channels=dataset.num_classes)\n",
                "print_trainable_params(gcn)\n",
                "\n",
                "out = gcn(x, edge_index)\n",
                "print(\"\\nOutput shape: \", out.shape)"
            ]
        },
        {
            "cell_type": "markdown",
            "metadata": {},
            "source": [
                "Creating a 2 layer GCN Model"
            ]
        },
        {
            "cell_type": "code",
            "execution_count": 53,
            "metadata": {
                "id": "_ss49qTdfSRP"
            },
            "outputs": [],
            "source": [
                "class GCNModel(torch.nn.Module):\n",
                "    \"\"\"Graph Convolutional Layer (GCN)\"\"\"\n",
                "    def __init__(self, in_channels, out_channels):\n",
                "        super(GCNModel, self).__init__()\n",
                "        self.conv1 = GCNConv(in_channels, 128)\n",
                "        self.conv2 = GCNConv(128, 64)\n",
                "        self.fc = nn.Linear(64, out_channels)\n",
                "\n",
                "    def forward(self, x, edge_index):\n",
                "        \"\"\"\n",
                "        Paramters:\n",
                "        x (Tensor):\n",
                "            Node feature matrix\n",
                "        edge_index (LongTensor):\n",
                "            Graph edge connectivity\n",
                "        \"\"\"\n",
                "        x = self.conv1(x, edge_index)\n",
                "        x = F.relu(x)\n",
                "        x = self.conv2(x, edge_index)\n",
                "        x = F.relu(x)\n",
                "        x = self.fc(x)\n",
                "\n",
                "        return F.log_softmax(x, dim=1)"
            ]
        },
        {
            "cell_type": "markdown",
            "metadata": {
                "id": "8SHG0SkvZXxf"
            },
            "source": [
                "Testing the model's forward method and viewing trainable parameters"
            ]
        },
        {
            "cell_type": "code",
            "execution_count": 54,
            "metadata": {
                "colab": {
                    "base_uri": "https://localhost:8080/"
                },
                "id": "ZnIpQ6Z7fxG-",
                "outputId": "8edd6468-fb54-4905-df71-88a86ab5ce77"
            },
            "outputs": [
                {
                    "name": "stdout",
                    "output_type": "stream",
                    "text": [
                        "Trainable parameter: conv1.bias, size: torch.Size([128])\n",
                        "Trainable parameter: conv1.lin.weight, size: torch.Size([128, 50])\n",
                        "Trainable parameter: conv2.bias, size: torch.Size([64])\n",
                        "Trainable parameter: conv2.lin.weight, size: torch.Size([64, 128])\n",
                        "Trainable parameter: fc.weight, size: torch.Size([121, 64])\n",
                        "Trainable parameter: fc.bias, size: torch.Size([121])\n",
                        "\n",
                        "Output shape:  torch.Size([1767, 121])\n"
                    ]
                }
            ],
            "source": [
                "x = sample.x.float()\n",
                "y = sample.y\n",
                "edge_index = sample.edge_index\n",
                "\n",
                "model = GCNModel(in_channels=dataset.num_features, out_channels=dataset.num_classes)\n",
                "print_trainable_params(model)\n",
                "\n",
                "output = model(x, edge_index)\n",
                "print(\"\\nOutput shape: \", output.shape)"
            ]
        },
        {
            "cell_type": "markdown",
            "metadata": {},
            "source": [
                "### Training loop for the GCN Model"
            ]
        },
        {
            "cell_type": "code",
            "execution_count": 55,
            "metadata": {
                "colab": {
                    "base_uri": "https://localhost:8080/"
                },
                "id": "bvivy8xNfztO",
                "outputId": "239bfea9-f50f-43f0-abcc-d25d6b9428cb"
            },
            "outputs": [
                {
                    "name": "stdout",
                    "output_type": "stream",
                    "text": [
                        "Epoch: 1/10, Loss: 26.3399\n",
                        "Epoch: 2/10, Loss: 26.3216\n",
                        "Epoch: 3/10, Loss: 26.3180\n",
                        "Epoch: 4/10, Loss: 26.3166\n",
                        "Epoch: 5/10, Loss: 26.3158\n",
                        "Epoch: 6/10, Loss: 26.3153\n",
                        "Epoch: 7/10, Loss: 26.3149\n",
                        "Epoch: 8/10, Loss: 26.3147\n",
                        "Epoch: 9/10, Loss: 26.3144\n",
                        "Epoch: 10/10, Loss: 26.3142\n"
                    ]
                }
            ],
            "source": [
                "epochs = 10\n",
                "lr = 1e-3\n",
                "\n",
                "optimizer = torch.optim.Adam(model.parameters(), lr=lr)\n",
                "criterion = torch.nn.MSELoss()\n",
                "\n",
                "model = model.to(device)\n",
                "criterion = criterion.to(device)\n",
                "\n",
                "for epoch in range(epochs):\n",
                "    total_loss = 0\n",
                "    for data in dataset:\n",
                "        data = data.to(device)\n",
                "        x, edge_index, y = data.x.float(), data.edge_index, data.y\n",
                "        model.train()\n",
                "        optimizer.zero_grad()\n",
                "        out = model(x, edge_index)\n",
                "        loss = criterion(out, y)\n",
                "        loss.backward()\n",
                "        total_loss += loss.item()\n",
                "        optimizer.step()\n",
                "    print(f'Epoch: {epoch+1}/{epochs}, Loss: {total_loss/len(dataset):.4f}')"
            ]
        },
        {
            "cell_type": "markdown",
            "metadata": {},
            "source": [
                "### Testing loop for the GCN Model"
            ]
        },
        {
            "cell_type": "code",
            "execution_count": 56,
            "metadata": {
                "colab": {
                    "base_uri": "https://localhost:8080/"
                },
                "id": "uwW0zcnLZcpg",
                "outputId": "715d9759-b97d-4c25-b328-a9bafe79b2e7"
            },
            "outputs": [
                {
                    "name": "stdout",
                    "output_type": "stream",
                    "text": [
                        "Test Loss: 26.1734\n"
                    ]
                }
            ],
            "source": [
                "with torch.no_grad():\n",
                "    model.eval()\n",
                "    total_loss = 0\n",
                "    for data in testset:\n",
                "        data = data.to(device)\n",
                "        x, edge_index, y = data.x.float(), data.edge_index, data.y\n",
                "        pred = model(x, edge_index)\n",
                "        loss = criterion(pred, y)\n",
                "        total_loss += loss.item()\n",
                "\n",
                "print(f'Test Loss: {total_loss/len(testset):.4f}')"
            ]
        },
        {
            "cell_type": "markdown",
            "metadata": {},
            "source": [
                "# Conclusion"
            ]
        },
        {
            "cell_type": "markdown",
            "metadata": {},
            "source": [
                "We can observe that the GAT model performs much better than the GCN model. This is because GAT model uses attention mechanism to give more importance to the nodes that are more relevant, which can significantly improve the model's regression capabilities."
            ]
        }
    ],
    "metadata": {
        "colab": {
            "provenance": []
        },
        "kernelspec": {
            "display_name": "Python 3",
            "name": "python3"
        },
        "language_info": {
            "name": "python"
        }
    },
    "nbformat": 4,
    "nbformat_minor": 0
}
